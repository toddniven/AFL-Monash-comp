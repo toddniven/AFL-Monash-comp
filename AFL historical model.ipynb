{
 "cells": [
  {
   "cell_type": "code",
   "execution_count": 268,
   "metadata": {},
   "outputs": [
    {
     "name": "stdout",
     "output_type": "stream",
     "text": [
      "The autoreload extension is already loaded. To reload it, use:\n",
      "  %reload_ext autoreload\n"
     ]
    }
   ],
   "source": [
    "%load_ext autoreload\n",
    "%autoreload 2\n",
    "\n",
    "import numpy as np\n",
    "import pandas as pd\n",
    "import math\n",
    "import requests\n",
    "from bs4 import BeautifulSoup\n",
    "from sklearn.utils import resample\n",
    "import matplotlib.pyplot as plt\n",
    "from sklearn.model_selection import cross_val_score\n",
    "from sklearn import preprocessing\n",
    "from sklearn import metrics\n",
    "pd.set_option(\"display.max_columns\",100)"
   ]
  },
  {
   "cell_type": "code",
   "execution_count": 269,
   "metadata": {},
   "outputs": [],
   "source": [
    "## Proxy settings when using cntlm\n",
    "http_proxy  = \"http://localhost:3128\"\n",
    "https_proxy = \"https://localhost:3128\"\n",
    "\n",
    "proxyDict = { \n",
    "              \"http\"  : http_proxy, \n",
    "              \"https\" : https_proxy, \n",
    "            }\n",
    "proxyDict = None"
   ]
  },
  {
   "cell_type": "code",
   "execution_count": 270,
   "metadata": {},
   "outputs": [],
   "source": [
    "mapping = {\n",
    "    'Richmond': 'richmond',\n",
    "    'West Coast': 'westcoast',\n",
    "    'Sydney': 'swans',\n",
    "    'Adelaide': 'adelaide',\n",
    "    'Geelong': 'geelong',\n",
    "    'Greater Western Sydney': 'gws',\n",
    "    'Melbourne': 'melbourne',\n",
    "    'Port Adelaide': 'padelaide',\n",
    "    'Collingwood': 'collingwood',\n",
    "    'Hawthorn': 'hawthorn',\n",
    "    'Essendon': 'essendon',\n",
    "    'Western Bulldogs': 'bullldogs',\n",
    "    'St Kilda': 'stkilda',\n",
    "    'North Melbourne': 'kangaroos',\n",
    "    'Kangaroos' : 'kangaroos',\n",
    "    'Fremantle': 'fremantle',\n",
    "    'Brisbane Lions': 'brisbanel',\n",
    "    'Gold Coast': 'goldcoast',\n",
    "    'Carlton': 'carlton'\n",
    "}\n",
    "teams = list(mapping.keys())"
   ]
  },
  {
   "cell_type": "code",
   "execution_count": 504,
   "metadata": {},
   "outputs": [
    {
     "name": "stdout",
     "output_type": "stream",
     "text": [
      "Richmond 0\n",
      "West Coast 0\n",
      "Sydney 0\n",
      "Adelaide 0\n",
      "Geelong 0\n",
      "Greater Western Sydney 0\n",
      "Melbourne 0\n",
      "Port Adelaide 0\n",
      "Collingwood 0\n",
      "Hawthorn 0\n",
      "Essendon 0\n",
      "Western Bulldogs 0\n",
      "St Kilda 0\n",
      "North Melbourne 0\n",
      "Fremantle 0\n",
      "Brisbane Lions 0\n",
      "Gold Coast 0\n",
      "Carlton 0\n"
     ]
    }
   ],
   "source": [
    "from data_prep.team_history import History\n",
    "# team_df = History(mapping, proxyDict).generate_team_history()\n",
    "team_df = History(mapping, proxyDict).generate_team_history(season_list=[0]) # current season"
   ]
  },
  {
   "cell_type": "code",
   "execution_count": 506,
   "metadata": {},
   "outputs": [
    {
     "name": "stdout",
     "output_type": "stream",
     "text": [
      "2019 Richmond\n",
      "2019 West Coast\n",
      "2019 Sydney\n",
      "2019 Adelaide\n",
      "2019 Geelong\n",
      "2019 Greater Western Sydney\n",
      "2019 Melbourne\n",
      "2019 Port Adelaide\n",
      "2019 Collingwood\n",
      "2019 Hawthorn\n",
      "2019 Essendon\n",
      "2019 Western Bulldogs\n",
      "2019 St Kilda\n",
      "2019 North Melbourne\n",
      "2019 Fremantle\n",
      "2019 Brisbane Lions\n",
      "2019 Gold Coast\n",
      "2019 Carlton\n"
     ]
    }
   ],
   "source": [
    "from data_prep.team_history import History\n",
    "# History(mapping, proxyDict).generate_game_data('training-all/', team_df)\n",
    "History(mapping, proxyDict).generate_game_data('training-all/', team_df, season_list=[0]) # current season"
   ]
  },
  {
   "cell_type": "code",
   "execution_count": 507,
   "metadata": {},
   "outputs": [
    {
     "name": "stdout",
     "output_type": "stream",
     "text": [
      "(2187, 17)\n",
      "(2187,)\n",
      "Wins vs losses 0.5697302240512117\n"
     ]
    }
   ],
   "source": [
    "X_list = []\n",
    "y_list = []\n",
    "\n",
    "for i in range(0,12):\n",
    "    X = np.load('training-all/training-'+str(2019-i)+'.npy')\n",
    "\n",
    "    mask = np.isnan(X).any(axis=1)\n",
    "    index = np.where(mask==True)[0][0] ## X8 has a row containing nulls\n",
    "    X = np.delete(X, index, 0)\n",
    "    X_list.append(X)\n",
    "\n",
    "    y = np.load('training-all/results-'+str(2019-i)+'.npy')\n",
    "    y = np.delete(y, index, 0)\n",
    "    y_list.append(y)\n",
    "    \n",
    "X = np.concatenate(X_list, axis=0)\n",
    "y = np.concatenate(y_list, axis=0)\n",
    "\n",
    "print(X.shape)\n",
    "print(y.shape)\n",
    "\n",
    "print('Wins vs losses',np.sum(y)/float(len(y)))"
   ]
  },
  {
   "cell_type": "code",
   "execution_count": 508,
   "metadata": {
    "scrolled": true
   },
   "outputs": [
    {
     "data": {
      "text/html": [
       "<div>\n",
       "<style scoped>\n",
       "    .dataframe tbody tr th:only-of-type {\n",
       "        vertical-align: middle;\n",
       "    }\n",
       "\n",
       "    .dataframe tbody tr th {\n",
       "        vertical-align: top;\n",
       "    }\n",
       "\n",
       "    .dataframe thead th {\n",
       "        text-align: right;\n",
       "    }\n",
       "</style>\n",
       "<table border=\"1\" class=\"dataframe\">\n",
       "  <thead>\n",
       "    <tr style=\"text-align: right;\">\n",
       "      <th></th>\n",
       "      <th>Rnd</th>\n",
       "      <th>h_F_mean</th>\n",
       "      <th>h_F_std</th>\n",
       "      <th>h_A_mean</th>\n",
       "      <th>h_A_std</th>\n",
       "      <th>h_M_mean</th>\n",
       "      <th>h_M_std</th>\n",
       "      <th>h_R_mean</th>\n",
       "      <th>h_perc</th>\n",
       "      <th>a_F_mean</th>\n",
       "      <th>a_F_std</th>\n",
       "      <th>a_A_mean</th>\n",
       "      <th>a_A_std</th>\n",
       "      <th>a_M_mean</th>\n",
       "      <th>a_M_std</th>\n",
       "      <th>a_R_mean</th>\n",
       "      <th>a_perc</th>\n",
       "      <th>perc</th>\n",
       "      <th>R_mean</th>\n",
       "      <th>F_mean</th>\n",
       "      <th>A_mean</th>\n",
       "      <th>F_std</th>\n",
       "      <th>A_std</th>\n",
       "    </tr>\n",
       "  </thead>\n",
       "  <tbody>\n",
       "    <tr>\n",
       "      <th>0</th>\n",
       "      <td>2.0</td>\n",
       "      <td>97.000000</td>\n",
       "      <td>0.000000</td>\n",
       "      <td>64.000000</td>\n",
       "      <td>0.000000</td>\n",
       "      <td>33.000000</td>\n",
       "      <td>0.000000</td>\n",
       "      <td>1.000000</td>\n",
       "      <td>1.515625</td>\n",
       "      <td>65.000000</td>\n",
       "      <td>0.000000</td>\n",
       "      <td>72.000000</td>\n",
       "      <td>0.000000</td>\n",
       "      <td>-7.000000</td>\n",
       "      <td>0.000000</td>\n",
       "      <td>0.000000</td>\n",
       "      <td>0.902778</td>\n",
       "      <td>1.678846</td>\n",
       "      <td>0.00</td>\n",
       "      <td>1.492308</td>\n",
       "      <td>0.888889</td>\n",
       "      <td>0.000000</td>\n",
       "      <td>0.000000</td>\n",
       "    </tr>\n",
       "    <tr>\n",
       "      <th>1</th>\n",
       "      <td>5.0</td>\n",
       "      <td>84.500000</td>\n",
       "      <td>13.973189</td>\n",
       "      <td>97.750000</td>\n",
       "      <td>22.719760</td>\n",
       "      <td>-13.250000</td>\n",
       "      <td>22.719760</td>\n",
       "      <td>0.500000</td>\n",
       "      <td>0.864450</td>\n",
       "      <td>74.500000</td>\n",
       "      <td>12.257651</td>\n",
       "      <td>86.000000</td>\n",
       "      <td>9.486833</td>\n",
       "      <td>-11.500000</td>\n",
       "      <td>9.486833</td>\n",
       "      <td>0.250000</td>\n",
       "      <td>0.866279</td>\n",
       "      <td>0.997889</td>\n",
       "      <td>2.00</td>\n",
       "      <td>1.134228</td>\n",
       "      <td>1.136628</td>\n",
       "      <td>1.139957</td>\n",
       "      <td>2.394873</td>\n",
       "    </tr>\n",
       "    <tr>\n",
       "      <th>2</th>\n",
       "      <td>6.0</td>\n",
       "      <td>85.400000</td>\n",
       "      <td>12.626955</td>\n",
       "      <td>91.600000</td>\n",
       "      <td>23.753737</td>\n",
       "      <td>-6.200000</td>\n",
       "      <td>23.753737</td>\n",
       "      <td>0.600000</td>\n",
       "      <td>0.932314</td>\n",
       "      <td>74.800000</td>\n",
       "      <td>26.194656</td>\n",
       "      <td>103.200000</td>\n",
       "      <td>20.989521</td>\n",
       "      <td>-28.400000</td>\n",
       "      <td>20.989521</td>\n",
       "      <td>0.200000</td>\n",
       "      <td>0.724806</td>\n",
       "      <td>1.286295</td>\n",
       "      <td>3.00</td>\n",
       "      <td>1.141711</td>\n",
       "      <td>0.887597</td>\n",
       "      <td>0.482043</td>\n",
       "      <td>1.131695</td>\n",
       "    </tr>\n",
       "    <tr>\n",
       "      <th>3</th>\n",
       "      <td>9.0</td>\n",
       "      <td>84.375000</td>\n",
       "      <td>17.888107</td>\n",
       "      <td>85.625000</td>\n",
       "      <td>25.203856</td>\n",
       "      <td>-1.250000</td>\n",
       "      <td>25.203856</td>\n",
       "      <td>0.625000</td>\n",
       "      <td>0.985401</td>\n",
       "      <td>82.250000</td>\n",
       "      <td>8.757140</td>\n",
       "      <td>78.000000</td>\n",
       "      <td>23.194827</td>\n",
       "      <td>4.250000</td>\n",
       "      <td>23.194827</td>\n",
       "      <td>0.500000</td>\n",
       "      <td>1.054487</td>\n",
       "      <td>0.934484</td>\n",
       "      <td>1.25</td>\n",
       "      <td>1.025836</td>\n",
       "      <td>1.097756</td>\n",
       "      <td>2.042688</td>\n",
       "      <td>1.086615</td>\n",
       "    </tr>\n",
       "    <tr>\n",
       "      <th>4</th>\n",
       "      <td>10.0</td>\n",
       "      <td>85.555556</td>\n",
       "      <td>17.192447</td>\n",
       "      <td>82.666667</td>\n",
       "      <td>25.192592</td>\n",
       "      <td>2.888889</td>\n",
       "      <td>25.192592</td>\n",
       "      <td>0.666667</td>\n",
       "      <td>1.034946</td>\n",
       "      <td>79.777778</td>\n",
       "      <td>29.637730</td>\n",
       "      <td>79.111111</td>\n",
       "      <td>19.969112</td>\n",
       "      <td>0.666667</td>\n",
       "      <td>19.969112</td>\n",
       "      <td>0.444444</td>\n",
       "      <td>1.008427</td>\n",
       "      <td>1.026298</td>\n",
       "      <td>1.50</td>\n",
       "      <td>1.072423</td>\n",
       "      <td>1.044944</td>\n",
       "      <td>0.580087</td>\n",
       "      <td>1.261578</td>\n",
       "    </tr>\n",
       "  </tbody>\n",
       "</table>\n",
       "</div>"
      ],
      "text/plain": [
       "    Rnd   h_F_mean    h_F_std   h_A_mean    h_A_std   h_M_mean    h_M_std  \\\n",
       "0   2.0  97.000000   0.000000  64.000000   0.000000  33.000000   0.000000   \n",
       "1   5.0  84.500000  13.973189  97.750000  22.719760 -13.250000  22.719760   \n",
       "2   6.0  85.400000  12.626955  91.600000  23.753737  -6.200000  23.753737   \n",
       "3   9.0  84.375000  17.888107  85.625000  25.203856  -1.250000  25.203856   \n",
       "4  10.0  85.555556  17.192447  82.666667  25.192592   2.888889  25.192592   \n",
       "\n",
       "   h_R_mean    h_perc   a_F_mean    a_F_std    a_A_mean    a_A_std   a_M_mean  \\\n",
       "0  1.000000  1.515625  65.000000   0.000000   72.000000   0.000000  -7.000000   \n",
       "1  0.500000  0.864450  74.500000  12.257651   86.000000   9.486833 -11.500000   \n",
       "2  0.600000  0.932314  74.800000  26.194656  103.200000  20.989521 -28.400000   \n",
       "3  0.625000  0.985401  82.250000   8.757140   78.000000  23.194827   4.250000   \n",
       "4  0.666667  1.034946  79.777778  29.637730   79.111111  19.969112   0.666667   \n",
       "\n",
       "     a_M_std  a_R_mean    a_perc      perc  R_mean    F_mean    A_mean  \\\n",
       "0   0.000000  0.000000  0.902778  1.678846    0.00  1.492308  0.888889   \n",
       "1   9.486833  0.250000  0.866279  0.997889    2.00  1.134228  1.136628   \n",
       "2  20.989521  0.200000  0.724806  1.286295    3.00  1.141711  0.887597   \n",
       "3  23.194827  0.500000  1.054487  0.934484    1.25  1.025836  1.097756   \n",
       "4  19.969112  0.444444  1.008427  1.026298    1.50  1.072423  1.044944   \n",
       "\n",
       "      F_std     A_std  \n",
       "0  0.000000  0.000000  \n",
       "1  1.139957  2.394873  \n",
       "2  0.482043  1.131695  \n",
       "3  2.042688  1.086615  \n",
       "4  0.580087  1.261578  "
      ]
     },
     "execution_count": 508,
     "metadata": {},
     "output_type": "execute_result"
    }
   ],
   "source": [
    "from data_prep.feature_eng import Features\n",
    "cols = Features().cols()\n",
    "Features().div_cols(X).head()"
   ]
  },
  {
   "cell_type": "code",
   "execution_count": null,
   "metadata": {},
   "outputs": [],
   "source": [
    "from modelling.training import Training\n",
    "from scipy.stats import uniform\n",
    "from scipy.stats import randint\n",
    "## Using 5 fold cv the average score can be determined by (val. score / 2.8)\n",
    "## eg if cutoff is 65 then we should expect an average score of 23.2\n",
    "## If our validation score gets to 70, then we should obtain an average score of 25.\n",
    "\n",
    "spaceR = {\n",
    "        'n_estimators': randint(low=350, high=700),\n",
    "        'max_depth': randint(low=3, high=6),\n",
    "        'learning_rate': uniform(0.005, 0.1),\n",
    "        'gamma': uniform(0.04, 0.05),\n",
    "        'min_child_weight': randint(low=3, high=4),\n",
    "        'scale_pos_weight': uniform(0, 2),\n",
    "        'max_delta_step': randint(low=0, high=5),\n",
    "        'colsample_bytree': uniform(0.1, 0.9),\n",
    "        'colsample_bylevel': uniform(0.1, 0.9),\n",
    "        'colsample_bynode': uniform(0.1, 0.9),\n",
    "        'subsample': uniform(0.1, 0.9),\n",
    "        'reg_lambda': uniform(0.0, 2.0),\n",
    "        'reg_alpha': uniform(0.0, 2.0),\n",
    "        'base_score': uniform(0.5, 0.1),\n",
    "        }\n",
    "scores, val_scores, best_models = Training(n_calls=150).trainR(X_list, y_list, space=spaceR)"
   ]
  },
  {
   "cell_type": "code",
   "execution_count": 534,
   "metadata": {},
   "outputs": [
    {
     "name": "stdout",
     "output_type": "stream",
     "text": [
      "Season 2019\n",
      "Bayes CV search took 95.76 seconds for 50 candidates parameter settings.\n",
      "val. score: 59.54935465763599\n",
      "test score: 3.6441691826008618\n",
      "\n",
      "Season 2018\n",
      "Bayes CV search took 92.17 seconds for 50 candidates parameter settings.\n",
      "val. score: 55.65958185738635\n",
      "test score: 27.944037005555145\n",
      "\n",
      "Season 2017\n",
      "Bayes CV search took 100.06 seconds for 50 candidates parameter settings.\n",
      "val. score: 58.088781560595564\n",
      "test score: 13.2907856464436\n",
      "\n",
      "Season 2016\n",
      "Bayes CV search took 84.82 seconds for 50 candidates parameter settings.\n",
      "val. score: 52.471618183896865\n",
      "test score: 42.71306293890296\n",
      "\n",
      "Season 2015\n",
      "Bayes CV search took 94.09 seconds for 50 candidates parameter settings.\n",
      "val. score: 56.85860877613424\n",
      "test score: 22.841642689817157\n",
      "\n",
      "Season 2014\n",
      "Bayes CV search took 93.79 seconds for 50 candidates parameter settings.\n",
      "val. score: 57.0867878933083\n",
      "test score: 19.54031052365691\n",
      "\n",
      "Season 2013\n",
      "Bayes CV search took 96.01 seconds for 50 candidates parameter settings.\n",
      "val. score: 53.74687368360643\n",
      "test score: 33.90173400779064\n",
      "\n",
      "Season 2012\n",
      "Bayes CV search took 82.07 seconds for 50 candidates parameter settings.\n",
      "val. score: 52.559002429964366\n",
      "test score: 37.91208690915258\n",
      "\n",
      "Season 2011\n",
      "Bayes CV search took 84.86 seconds for 50 candidates parameter settings.\n",
      "val. score: 52.50769325393451\n",
      "test score: 38.868804776642264\n",
      "\n",
      "Season 2010\n",
      "Bayes CV search took 90.94 seconds for 50 candidates parameter settings.\n",
      "val. score: 58.64881797232627\n",
      "test score: 16.970991408506393\n",
      "\n",
      "Season 2009\n",
      "Bayes CV search took 86.66 seconds for 50 candidates parameter settings.\n",
      "val. score: 57.181095943267216\n",
      "test score: 22.7196661884948\n",
      "\n",
      "Season 2008\n",
      "Bayes CV search took 104.97 seconds for 50 candidates parameter settings.\n",
      "val. score: 56.70559123851274\n",
      "test score: 23.525633556179336\n",
      "\n"
     ]
    }
   ],
   "source": [
    "from skopt.space import Real, Integer\n",
    "\n",
    "spaceB = {\n",
    "    'n_estimators': Integer(450, 550),\n",
    "    'max_depth': Integer(3, 5),\n",
    "    'learning_rate': Real(0.001, 0.03, \"log-uniform\"),\n",
    "    'gamma': Real(0.04, 0.09, \"uniform\"),\n",
    "    'min_child_weight': Integer(3, 5),\n",
    "    'scale_pos_weight': Real(0.9, 1.1, \"uniform\"),\n",
    "    'max_delta_step': Integer(3, 5),\n",
    "    'colsample_bytree': Real(0.1, 1.0, \"uniform\"),\n",
    "    'colsample_bylevel': Real(0.1, 1.0, \"uniform\"),\n",
    "    'colsample_bynode': Real(0.1, 1.0, \"uniform\"),\n",
    "    'subsample': Real(0.05, 0.3, \"uniform\"),\n",
    "    'reg_lambda': Real(0.0, 1.5, \"uniform\"),\n",
    "    'reg_alpha': Real(0.0, 1.5, \"uniform\"),\n",
    "        }\n",
    "scores, val_scores, best_models = Training(n_calls=50).trainB(X_list, y_list, n_points=3, space=spaceB)"
   ]
  },
  {
   "cell_type": "code",
   "execution_count": 535,
   "metadata": {},
   "outputs": [],
   "source": [
    "scores = scores[1:]\n",
    "val_scores = val_scores[1:]"
   ]
  },
  {
   "cell_type": "code",
   "execution_count": 537,
   "metadata": {},
   "outputs": [
    {
     "name": "stdout",
     "output_type": "stream",
     "text": [
      "\n",
      "Mean test scores 27.293523241012892\n",
      "Mean validation scores 27.796111490587858\n"
     ]
    },
    {
     "data": {
      "image/png": "[encoded data removed]",
      "text/plain": [
       "<Figure size 900x288 with 1 Axes>"
      ]
     },
     "metadata": {
      "needs_background": "light"
     },
     "output_type": "display_data"
    }
   ],
   "source": [
    "plt.figure(figsize=(12.5,4))\n",
    "plt.hist(scores, bins=11, density=True, facecolor='blue', alpha=0.5)\n",
    "print(\"\")\n",
    "print(\"Mean test scores\", np.mean(scores))\n",
    "print(\"Mean validation scores\", np.mean(val_scores)/2)"
   ]
  },
  {
   "cell_type": "code",
   "execution_count": 536,
   "metadata": {},
   "outputs": [
    {
     "data": {
      "text/html": [
       "<div>\n",
       "<style scoped>\n",
       "    .dataframe tbody tr th:only-of-type {\n",
       "        vertical-align: middle;\n",
       "    }\n",
       "\n",
       "    .dataframe tbody tr th {\n",
       "        vertical-align: top;\n",
       "    }\n",
       "\n",
       "    .dataframe thead th {\n",
       "        text-align: right;\n",
       "    }\n",
       "</style>\n",
       "<table border=\"1\" class=\"dataframe\">\n",
       "  <thead>\n",
       "    <tr style=\"text-align: right;\">\n",
       "      <th></th>\n",
       "      <th>base_score</th>\n",
       "      <th>colsample_bylevel</th>\n",
       "      <th>colsample_bynode</th>\n",
       "      <th>colsample_bytree</th>\n",
       "      <th>gamma</th>\n",
       "      <th>learning_rate</th>\n",
       "      <th>max_delta_step</th>\n",
       "      <th>max_depth</th>\n",
       "      <th>min_child_weight</th>\n",
       "      <th>n_estimators</th>\n",
       "      <th>n_jobs</th>\n",
       "      <th>random_state</th>\n",
       "      <th>reg_alpha</th>\n",
       "      <th>reg_lambda</th>\n",
       "      <th>scale_pos_weight</th>\n",
       "      <th>subsample</th>\n",
       "    </tr>\n",
       "  </thead>\n",
       "  <tbody>\n",
       "    <tr>\n",
       "      <th>count</th>\n",
       "      <td>12.0</td>\n",
       "      <td>12.000000</td>\n",
       "      <td>12.000000</td>\n",
       "      <td>12.000000</td>\n",
       "      <td>12.000000</td>\n",
       "      <td>12.000000</td>\n",
       "      <td>12.000000</td>\n",
       "      <td>12.000000</td>\n",
       "      <td>12.000000</td>\n",
       "      <td>12.000000</td>\n",
       "      <td>12.0</td>\n",
       "      <td>12.0</td>\n",
       "      <td>12.000000</td>\n",
       "      <td>12.000000</td>\n",
       "      <td>12.000000</td>\n",
       "      <td>12.000000</td>\n",
       "    </tr>\n",
       "    <tr>\n",
       "      <th>mean</th>\n",
       "      <td>0.5</td>\n",
       "      <td>0.584363</td>\n",
       "      <td>0.555909</td>\n",
       "      <td>0.700386</td>\n",
       "      <td>0.058187</td>\n",
       "      <td>0.007726</td>\n",
       "      <td>3.916667</td>\n",
       "      <td>4.083333</td>\n",
       "      <td>3.916667</td>\n",
       "      <td>506.666667</td>\n",
       "      <td>-1.0</td>\n",
       "      <td>0.0</td>\n",
       "      <td>0.317260</td>\n",
       "      <td>0.676102</td>\n",
       "      <td>1.015390</td>\n",
       "      <td>0.182873</td>\n",
       "    </tr>\n",
       "    <tr>\n",
       "      <th>std</th>\n",
       "      <td>0.0</td>\n",
       "      <td>0.266172</td>\n",
       "      <td>0.284415</td>\n",
       "      <td>0.156317</td>\n",
       "      <td>0.016017</td>\n",
       "      <td>0.003212</td>\n",
       "      <td>0.792961</td>\n",
       "      <td>0.792961</td>\n",
       "      <td>0.792961</td>\n",
       "      <td>37.129585</td>\n",
       "      <td>0.0</td>\n",
       "      <td>0.0</td>\n",
       "      <td>0.461097</td>\n",
       "      <td>0.499898</td>\n",
       "      <td>0.049119</td>\n",
       "      <td>0.077044</td>\n",
       "    </tr>\n",
       "    <tr>\n",
       "      <th>min</th>\n",
       "      <td>0.5</td>\n",
       "      <td>0.100000</td>\n",
       "      <td>0.100000</td>\n",
       "      <td>0.454456</td>\n",
       "      <td>0.040000</td>\n",
       "      <td>0.004352</td>\n",
       "      <td>3.000000</td>\n",
       "      <td>3.000000</td>\n",
       "      <td>3.000000</td>\n",
       "      <td>450.000000</td>\n",
       "      <td>-1.0</td>\n",
       "      <td>0.0</td>\n",
       "      <td>0.000000</td>\n",
       "      <td>0.056493</td>\n",
       "      <td>0.930793</td>\n",
       "      <td>0.050000</td>\n",
       "    </tr>\n",
       "    <tr>\n",
       "      <th>25%</th>\n",
       "      <td>0.5</td>\n",
       "      <td>0.521871</td>\n",
       "      <td>0.345356</td>\n",
       "      <td>0.619299</td>\n",
       "      <td>0.040908</td>\n",
       "      <td>0.005258</td>\n",
       "      <td>3.000000</td>\n",
       "      <td>3.750000</td>\n",
       "      <td>3.000000</td>\n",
       "      <td>481.000000</td>\n",
       "      <td>-1.0</td>\n",
       "      <td>0.0</td>\n",
       "      <td>0.000000</td>\n",
       "      <td>0.219802</td>\n",
       "      <td>0.986943</td>\n",
       "      <td>0.145475</td>\n",
       "    </tr>\n",
       "    <tr>\n",
       "      <th>50%</th>\n",
       "      <td>0.5</td>\n",
       "      <td>0.601607</td>\n",
       "      <td>0.550955</td>\n",
       "      <td>0.695811</td>\n",
       "      <td>0.059160</td>\n",
       "      <td>0.007160</td>\n",
       "      <td>4.000000</td>\n",
       "      <td>4.000000</td>\n",
       "      <td>4.000000</td>\n",
       "      <td>504.500000</td>\n",
       "      <td>-1.0</td>\n",
       "      <td>0.0</td>\n",
       "      <td>0.062314</td>\n",
       "      <td>0.629791</td>\n",
       "      <td>1.012646</td>\n",
       "      <td>0.168951</td>\n",
       "    </tr>\n",
       "    <tr>\n",
       "      <th>75%</th>\n",
       "      <td>0.5</td>\n",
       "      <td>0.691445</td>\n",
       "      <td>0.715566</td>\n",
       "      <td>0.794647</td>\n",
       "      <td>0.071721</td>\n",
       "      <td>0.008191</td>\n",
       "      <td>4.250000</td>\n",
       "      <td>5.000000</td>\n",
       "      <td>4.250000</td>\n",
       "      <td>540.250000</td>\n",
       "      <td>-1.0</td>\n",
       "      <td>0.0</td>\n",
       "      <td>0.473108</td>\n",
       "      <td>1.008245</td>\n",
       "      <td>1.038562</td>\n",
       "      <td>0.256513</td>\n",
       "    </tr>\n",
       "    <tr>\n",
       "      <th>max</th>\n",
       "      <td>0.5</td>\n",
       "      <td>1.000000</td>\n",
       "      <td>0.986469</td>\n",
       "      <td>1.000000</td>\n",
       "      <td>0.084931</td>\n",
       "      <td>0.015803</td>\n",
       "      <td>5.000000</td>\n",
       "      <td>5.000000</td>\n",
       "      <td>5.000000</td>\n",
       "      <td>550.000000</td>\n",
       "      <td>-1.0</td>\n",
       "      <td>0.0</td>\n",
       "      <td>1.489486</td>\n",
       "      <td>1.474545</td>\n",
       "      <td>1.100000</td>\n",
       "      <td>0.300000</td>\n",
       "    </tr>\n",
       "  </tbody>\n",
       "</table>\n",
       "</div>"
      ],
      "text/plain": [
       "       base_score  colsample_bylevel  colsample_bynode  colsample_bytree  \\\n",
       "count        12.0          12.000000         12.000000         12.000000   \n",
       "mean          0.5           0.584363          0.555909          0.700386   \n",
       "std           0.0           0.266172          0.284415          0.156317   \n",
       "min           0.5           0.100000          0.100000          0.454456   \n",
       "25%           0.5           0.521871          0.345356          0.619299   \n",
       "50%           0.5           0.601607          0.550955          0.695811   \n",
       "75%           0.5           0.691445          0.715566          0.794647   \n",
       "max           0.5           1.000000          0.986469          1.000000   \n",
       "\n",
       "           gamma  learning_rate  max_delta_step  max_depth  min_child_weight  \\\n",
       "count  12.000000      12.000000       12.000000  12.000000         12.000000   \n",
       "mean    0.058187       0.007726        3.916667   4.083333          3.916667   \n",
       "std     0.016017       0.003212        0.792961   0.792961          0.792961   \n",
       "min     0.040000       0.004352        3.000000   3.000000          3.000000   \n",
       "25%     0.040908       0.005258        3.000000   3.750000          3.000000   \n",
       "50%     0.059160       0.007160        4.000000   4.000000          4.000000   \n",
       "75%     0.071721       0.008191        4.250000   5.000000          4.250000   \n",
       "max     0.084931       0.015803        5.000000   5.000000          5.000000   \n",
       "\n",
       "       n_estimators  n_jobs  random_state  reg_alpha  reg_lambda  \\\n",
       "count     12.000000    12.0          12.0  12.000000   12.000000   \n",
       "mean     506.666667    -1.0           0.0   0.317260    0.676102   \n",
       "std       37.129585     0.0           0.0   0.461097    0.499898   \n",
       "min      450.000000    -1.0           0.0   0.000000    0.056493   \n",
       "25%      481.000000    -1.0           0.0   0.000000    0.219802   \n",
       "50%      504.500000    -1.0           0.0   0.062314    0.629791   \n",
       "75%      540.250000    -1.0           0.0   0.473108    1.008245   \n",
       "max      550.000000    -1.0           0.0   1.489486    1.474545   \n",
       "\n",
       "       scale_pos_weight  subsample  \n",
       "count         12.000000  12.000000  \n",
       "mean           1.015390   0.182873  \n",
       "std            0.049119   0.077044  \n",
       "min            0.930793   0.050000  \n",
       "25%            0.986943   0.145475  \n",
       "50%            1.012646   0.168951  \n",
       "75%            1.038562   0.256513  \n",
       "max            1.100000   0.300000  "
      ]
     },
     "execution_count": 536,
     "metadata": {},
     "output_type": "execute_result"
    }
   ],
   "source": [
    "rows = []\n",
    "for model in best_models:\n",
    "    rows.append(model.get_params())\n",
    "pd.DataFrame(rows).describe()"
   ]
  },
  {
   "cell_type": "code",
   "execution_count": 538,
   "metadata": {},
   "outputs": [
    {
     "data": {
      "text/plain": [
       "<matplotlib.legend.Legend at 0x128a7aa20>"
      ]
     },
     "execution_count": 538,
     "metadata": {},
     "output_type": "execute_result"
    },
    {
     "data": {
      "image/png": "[encoded data removed]",
      "text/plain": [
       "<Figure size 900x288 with 1 Axes>"
      ]
     },
     "metadata": {
      "needs_background": "light"
     },
     "output_type": "display_data"
    }
   ],
   "source": [
    "plt.figure(figsize=(12.5,4))\n",
    "line_height = 2\n",
    "data = Helpers().averagingModels(np.concatenate(X_list, axis=0), best_models)\n",
    "_ = plt.hist(data, bins='auto', density=True, facecolor='green', alpha=0.5)\n",
    "\n",
    "plt.vlines(np.percentile(data, 5), 0, line_height, linestyle=\"--\", colors='green', label=\"5%\")\n",
    "plt.vlines(np.percentile(data, 50), 0, line_height, linestyle=\"--\", colors='red', label=\"50%\")\n",
    "plt.vlines(np.percentile(data, 95), 0, line_height, linestyle=\"--\", colors='blue', label=\"95%\")\n",
    "plt.xlabel('Probability')\n",
    "plt.legend()"
   ]
  },
  {
   "cell_type": "code",
   "execution_count": 539,
   "metadata": {
    "scrolled": false
   },
   "outputs": [
    {
     "data": {
      "text/html": [
       "<div>\n",
       "<style scoped>\n",
       "    .dataframe tbody tr th:only-of-type {\n",
       "        vertical-align: middle;\n",
       "    }\n",
       "\n",
       "    .dataframe tbody tr th {\n",
       "        vertical-align: top;\n",
       "    }\n",
       "\n",
       "    .dataframe thead th {\n",
       "        text-align: right;\n",
       "    }\n",
       "</style>\n",
       "<table border=\"1\" class=\"dataframe\">\n",
       "  <thead>\n",
       "    <tr style=\"text-align: right;\">\n",
       "      <th></th>\n",
       "      <th>importance</th>\n",
       "    </tr>\n",
       "  </thead>\n",
       "  <tbody>\n",
       "    <tr>\n",
       "      <th>perc</th>\n",
       "      <td>0.073353</td>\n",
       "    </tr>\n",
       "    <tr>\n",
       "      <th>F_mean</th>\n",
       "      <td>0.062320</td>\n",
       "    </tr>\n",
       "    <tr>\n",
       "      <th>A_mean</th>\n",
       "      <td>0.060366</td>\n",
       "    </tr>\n",
       "    <tr>\n",
       "      <th>h_M_mean</th>\n",
       "      <td>0.053429</td>\n",
       "    </tr>\n",
       "    <tr>\n",
       "      <th>R_mean</th>\n",
       "      <td>0.052944</td>\n",
       "    </tr>\n",
       "    <tr>\n",
       "      <th>h_perc</th>\n",
       "      <td>0.052147</td>\n",
       "    </tr>\n",
       "    <tr>\n",
       "      <th>a_perc</th>\n",
       "      <td>0.048745</td>\n",
       "    </tr>\n",
       "    <tr>\n",
       "      <th>a_M_mean</th>\n",
       "      <td>0.046640</td>\n",
       "    </tr>\n",
       "    <tr>\n",
       "      <th>h_F_mean</th>\n",
       "      <td>0.044644</td>\n",
       "    </tr>\n",
       "    <tr>\n",
       "      <th>h_A_mean</th>\n",
       "      <td>0.042212</td>\n",
       "    </tr>\n",
       "    <tr>\n",
       "      <th>a_A_mean</th>\n",
       "      <td>0.041626</td>\n",
       "    </tr>\n",
       "    <tr>\n",
       "      <th>h_R_mean</th>\n",
       "      <td>0.041322</td>\n",
       "    </tr>\n",
       "    <tr>\n",
       "      <th>a_R_mean</th>\n",
       "      <td>0.039357</td>\n",
       "    </tr>\n",
       "    <tr>\n",
       "      <th>a_F_mean</th>\n",
       "      <td>0.039184</td>\n",
       "    </tr>\n",
       "    <tr>\n",
       "      <th>a_M_std</th>\n",
       "      <td>0.035146</td>\n",
       "    </tr>\n",
       "    <tr>\n",
       "      <th>h_F_std</th>\n",
       "      <td>0.034788</td>\n",
       "    </tr>\n",
       "    <tr>\n",
       "      <th>a_F_std</th>\n",
       "      <td>0.034306</td>\n",
       "    </tr>\n",
       "    <tr>\n",
       "      <th>A_std</th>\n",
       "      <td>0.034212</td>\n",
       "    </tr>\n",
       "    <tr>\n",
       "      <th>a_A_std</th>\n",
       "      <td>0.034015</td>\n",
       "    </tr>\n",
       "    <tr>\n",
       "      <th>h_A_std</th>\n",
       "      <td>0.033561</td>\n",
       "    </tr>\n",
       "    <tr>\n",
       "      <th>h_M_std</th>\n",
       "      <td>0.033233</td>\n",
       "    </tr>\n",
       "    <tr>\n",
       "      <th>F_std</th>\n",
       "      <td>0.032903</td>\n",
       "    </tr>\n",
       "    <tr>\n",
       "      <th>Rnd</th>\n",
       "      <td>0.029546</td>\n",
       "    </tr>\n",
       "  </tbody>\n",
       "</table>\n",
       "</div>"
      ],
      "text/plain": [
       "          importance\n",
       "perc        0.073353\n",
       "F_mean      0.062320\n",
       "A_mean      0.060366\n",
       "h_M_mean    0.053429\n",
       "R_mean      0.052944\n",
       "h_perc      0.052147\n",
       "a_perc      0.048745\n",
       "a_M_mean    0.046640\n",
       "h_F_mean    0.044644\n",
       "h_A_mean    0.042212\n",
       "a_A_mean    0.041626\n",
       "h_R_mean    0.041322\n",
       "a_R_mean    0.039357\n",
       "a_F_mean    0.039184\n",
       "a_M_std     0.035146\n",
       "h_F_std     0.034788\n",
       "a_F_std     0.034306\n",
       "A_std       0.034212\n",
       "a_A_std     0.034015\n",
       "h_A_std     0.033561\n",
       "h_M_std     0.033233\n",
       "F_std       0.032903\n",
       "Rnd         0.029546"
      ]
     },
     "execution_count": 539,
     "metadata": {},
     "output_type": "execute_result"
    }
   ],
   "source": [
    "from helper_functions.functions import Helpers\n",
    "\n",
    "features = Features().div_cols(X_list[0]).columns\n",
    "\n",
    "imp = pd.DataFrame(data=Helpers().averagingImp(best_models),\n",
    "             index=features,\n",
    "             columns=['importance']).sort_values(by=['importance'], ascending=False)\n",
    "imp"
   ]
  },
  {
   "cell_type": "markdown",
   "metadata": {},
   "source": [
    "## Scoring"
   ]
  },
  {
   "cell_type": "code",
   "execution_count": 441,
   "metadata": {},
   "outputs": [
    {
     "name": "stderr",
     "output_type": "stream",
     "text": [
      "/Users/d719674/dev/code/AFL-Monash-comp/data_prep/web_scraping.py:35: UserWarning: No parser was explicitly specified, so I'm using the best available HTML parser for this system (\"lxml\"). This usually isn't a problem, but if you run this code on another system, or in a different virtual environment, it may use a different parser and behave differently.\n",
      "\n",
      "The code that caused this warning is on line 35 of the file /Users/d719674/dev/code/AFL-Monash-comp/data_prep/web_scraping.py. To get rid of this warning, pass the additional argument 'features=\"lxml\"' to the BeautifulSoup constructor.\n",
      "\n",
      "  soup = BeautifulSoup(r.text, \"html\")\n"
     ]
    },
    {
     "data": {
      "text/plain": [
       "[['Richmond', 'Geelong'],\n",
       " ['Carlton', 'Brisbane Lions'],\n",
       " ['Gold Coast', 'North Melbourne'],\n",
       " ['Adelaide', 'Greater Western Sydney'],\n",
       " ['Sydney', 'West Coast'],\n",
       " ['Collingwood', 'Melbourne']]"
      ]
     },
     "execution_count": 441,
     "metadata": {},
     "output_type": "execute_result"
    }
   ],
   "source": [
    "from data_prep.web_scraping import Scrape\n",
    "\n",
    "games = []\n",
    "start = 134\n",
    "for i in range(start,start+6):\n",
    "    games.append(Scrape(mapping, proxyDict).scrape_game(i))\n",
    "games"
   ]
  },
  {
   "cell_type": "code",
   "execution_count": 453,
   "metadata": {},
   "outputs": [],
   "source": [
    "from modelling.scoring import Scoring\n",
    "scoring = Scoring(mapping, proxyDict).score_data(games).values"
   ]
  },
  {
   "cell_type": "code",
   "execution_count": 540,
   "metadata": {},
   "outputs": [
    {
     "data": {
      "text/html": [
       "<div>\n",
       "<style scoped>\n",
       "    .dataframe tbody tr th:only-of-type {\n",
       "        vertical-align: middle;\n",
       "    }\n",
       "\n",
       "    .dataframe tbody tr th {\n",
       "        vertical-align: top;\n",
       "    }\n",
       "\n",
       "    .dataframe thead th {\n",
       "        text-align: right;\n",
       "    }\n",
       "</style>\n",
       "<table border=\"1\" class=\"dataframe\">\n",
       "  <thead>\n",
       "    <tr style=\"text-align: right;\">\n",
       "      <th></th>\n",
       "      <th>home</th>\n",
       "      <th>away</th>\n",
       "      <th>prob_avg</th>\n",
       "      <th>prob_med</th>\n",
       "      <th>prob_std</th>\n",
       "      <th>prob_max</th>\n",
       "      <th>prob_min</th>\n",
       "    </tr>\n",
       "  </thead>\n",
       "  <tbody>\n",
       "    <tr>\n",
       "      <th>0</th>\n",
       "      <td>Richmond</td>\n",
       "      <td>Geelong</td>\n",
       "      <td>0.40044928</td>\n",
       "      <td>0.39810655</td>\n",
       "      <td>0.020099932</td>\n",
       "      <td>0.44650313</td>\n",
       "      <td>0.3760008</td>\n",
       "    </tr>\n",
       "    <tr>\n",
       "      <th>1</th>\n",
       "      <td>Carlton</td>\n",
       "      <td>Brisbane Lions</td>\n",
       "      <td>0.3008254</td>\n",
       "      <td>0.30954808</td>\n",
       "      <td>0.029703764</td>\n",
       "      <td>0.3383016</td>\n",
       "      <td>0.25043416</td>\n",
       "    </tr>\n",
       "    <tr>\n",
       "      <th>2</th>\n",
       "      <td>Gold Coast</td>\n",
       "      <td>North Melbourne</td>\n",
       "      <td>0.3560835</td>\n",
       "      <td>0.35862267</td>\n",
       "      <td>0.032708753</td>\n",
       "      <td>0.40232214</td>\n",
       "      <td>0.2762768</td>\n",
       "    </tr>\n",
       "    <tr>\n",
       "      <th>3</th>\n",
       "      <td>Adelaide</td>\n",
       "      <td>Greater Western Sydney</td>\n",
       "      <td>0.45917296</td>\n",
       "      <td>0.45664442</td>\n",
       "      <td>0.028989451</td>\n",
       "      <td>0.5267864</td>\n",
       "      <td>0.40316665</td>\n",
       "    </tr>\n",
       "    <tr>\n",
       "      <th>4</th>\n",
       "      <td>Sydney</td>\n",
       "      <td>West Coast</td>\n",
       "      <td>0.36387178</td>\n",
       "      <td>0.36707312</td>\n",
       "      <td>0.023024032</td>\n",
       "      <td>0.41046163</td>\n",
       "      <td>0.31767353</td>\n",
       "    </tr>\n",
       "    <tr>\n",
       "      <th>5</th>\n",
       "      <td>Collingwood</td>\n",
       "      <td>Melbourne</td>\n",
       "      <td>0.8346141</td>\n",
       "      <td>0.83212256</td>\n",
       "      <td>0.013530873</td>\n",
       "      <td>0.8701214</td>\n",
       "      <td>0.81702673</td>\n",
       "    </tr>\n",
       "  </tbody>\n",
       "</table>\n",
       "</div>"
      ],
      "text/plain": [
       "          home                    away    prob_avg    prob_med     prob_std  \\\n",
       "0     Richmond                 Geelong  0.40044928  0.39810655  0.020099932   \n",
       "1      Carlton          Brisbane Lions   0.3008254  0.30954808  0.029703764   \n",
       "2   Gold Coast         North Melbourne   0.3560835  0.35862267  0.032708753   \n",
       "3     Adelaide  Greater Western Sydney  0.45917296  0.45664442  0.028989451   \n",
       "4       Sydney              West Coast  0.36387178  0.36707312  0.023024032   \n",
       "5  Collingwood               Melbourne   0.8346141  0.83212256  0.013530873   \n",
       "\n",
       "     prob_max    prob_min  \n",
       "0  0.44650313   0.3760008  \n",
       "1   0.3383016  0.25043416  \n",
       "2  0.40232214   0.2762768  \n",
       "3   0.5267864  0.40316665  \n",
       "4  0.41046163  0.31767353  \n",
       "5   0.8701214  0.81702673  "
      ]
     },
     "execution_count": 540,
     "metadata": {},
     "output_type": "execute_result"
    }
   ],
   "source": [
    "def modelStats(X, models=[]):\n",
    "    predictions = np.column_stack([\n",
    "        model.predict_proba(X)[:,1] for model in models\n",
    "    ])\n",
    "    return [np.mean(predictions, axis=1), np.median(predictions, axis=1), np.std(predictions, axis=1), \n",
    "            np.max(predictions, axis=1), np.min(predictions, axis=1)]\n",
    "\n",
    "arr = np.c_[ games, modelStats(scoring,best_models)[0],\n",
    "           modelStats(scoring,best_models)[1],modelStats(scoring,best_models)[2],\n",
    "            modelStats(scoring,best_models)[3], modelStats(scoring,best_models)[4]] \n",
    "pd.DataFrame(arr,columns=['home','away', 'prob_avg', 'prob_med', 'prob_std', 'prob_max', 'prob_min'])"
   ]
  },
  {
   "cell_type": "markdown",
   "metadata": {},
   "source": [
    "## Model Analysis"
   ]
  },
  {
   "cell_type": "code",
   "execution_count": 541,
   "metadata": {},
   "outputs": [],
   "source": [
    "overall = []\n",
    "for i in range(len(best_models)):\n",
    "    season_scores = []\n",
    "    for rnd in range(1,24):\n",
    "        df = pd.DataFrame(np.c_[X_list[i],y_list[i]])\n",
    "        y_new = df[df[0] == rnd][17].values\n",
    "        x_new = df[df[0] == rnd].drop(17, axis=1).values\n",
    "        score = Helpers().afl_loss(y_new,best_models[i].predict_proba(Features().div_cols(x_new).values)[:,1])\n",
    "        season_scores.append(score)\n",
    "    overall.append(season_scores)"
   ]
  },
  {
   "cell_type": "code",
   "execution_count": 542,
   "metadata": {},
   "outputs": [
    {
     "data": {
      "text/plain": [
       "Text(0.5, 1.0, 'Average Cumulative Score')"
      ]
     },
     "execution_count": 542,
     "metadata": {},
     "output_type": "execute_result"
    },
    {
     "data": {
      "image/png": "[encoded data removed]",
      "text/plain": [
       "<Figure size 900x288 with 1 Axes>"
      ]
     },
     "metadata": {
      "needs_background": "light"
     },
     "output_type": "display_data"
    }
   ],
   "source": [
    "plt.figure(figsize=(12.5,4))\n",
    "plt.plot(np.cumsum(np.array(np.matrix(np.array(overall)).mean(0)).flatten()))\n",
    "plt.title('Average Cumulative Score')"
   ]
  },
  {
   "cell_type": "code",
   "execution_count": 543,
   "metadata": {},
   "outputs": [
    {
     "name": "stdout",
     "output_type": "stream",
     "text": [
      "[13.62360411 16.69657643 20.8538074  20.95531643 21.32964835 24.48503226\n",
      " 27.74336028 33.02016146 38.10866212 39.04786432 41.63957179]\n",
      "[13.29078565 16.97099141 19.54031052 22.71966619 22.84164269 23.52563356\n",
      " 27.94403701 33.90173401 37.91208691 38.86880478 42.71306294]\n",
      "27.04578226758966\n",
      "27.293523241012892\n"
     ]
    }
   ],
   "source": [
    "data_A = np.load('model_A_scores.npy')\n",
    "data_B = scores.copy()\n",
    "print(np.sort(data_A))\n",
    "print(np.sort(data_B))\n",
    "print(np.mean(data_A))\n",
    "print(np.mean(data_B))"
   ]
  },
  {
   "cell_type": "code",
   "execution_count": 544,
   "metadata": {},
   "outputs": [
    {
     "name": "stderr",
     "output_type": "stream",
     "text": [
      "Multiprocess sampling (4 chains in 4 jobs)\n",
      "CompoundStep\n",
      ">Metropolis: [beta_B]\n",
      ">Metropolis: [alpha_B]\n",
      ">Metropolis: [beta_A]\n",
      ">Metropolis: [alpha_A]\n",
      "Sampling 4 chains: 100%|██████████| 74000/74000 [00:15<00:00, 4823.26draws/s]\n",
      "The number of effective samples is smaller than 10% for some parameters.\n"
     ]
    }
   ],
   "source": [
    "import pymc3 as pm\n",
    "# The parameters are the bounds of the Uniform.\n",
    "with pm.Model() as model:\n",
    "    alpha_A = pm.Exponential('alpha_A', 1/10)\n",
    "    beta_A = pm.Uniform('beta_A', lower=0, upper=1)\n",
    "    alpha_B = pm.Exponential('alpha_B', 1/10)\n",
    "    beta_B = pm.Uniform('beta_B', lower=0, upper=1)\n",
    "    \n",
    "    # Define the deterministic delta function. This is our unknown of interest.\n",
    "    delta = pm.Deterministic(\"delta\", alpha_A/beta_A - alpha_B/beta_B)\n",
    "    \n",
    "    obs_A = pm.Gamma(\"obs_A\", alpha=alpha_A, beta=beta_A, observed=data_A)\n",
    "    obs_B = pm.Gamma(\"obs_B\", alpha=alpha_B, beta=beta_B, observed=data_B)\n",
    "    \n",
    "    step = pm.Metropolis()\n",
    "    trace = pm.sample(18000, step=step)\n",
    "    burned_trace = trace[1000:]"
   ]
  },
  {
   "cell_type": "code",
   "execution_count": 545,
   "metadata": {},
   "outputs": [
    {
     "data": {
      "text/plain": [
       "<matplotlib.legend.Legend at 0x12828d358>"
      ]
     },
     "execution_count": 545,
     "metadata": {},
     "output_type": "execute_result"
    },
    {
     "data": {
      "image/png": "[encoded data removed]",
      "text/plain": [
       "<Figure size 900x288 with 1 Axes>"
      ]
     },
     "metadata": {
      "needs_background": "light"
     },
     "output_type": "display_data"
    }
   ],
   "source": [
    "plt.figure(figsize=(12.5,4))\n",
    "plt.title(\"Posterior distributions of $A$ and $B$\")\n",
    "plt.hist(burned_trace[\"alpha_A\"]/burned_trace[\"beta_A\"], bins='auto', histtype=\"stepfilled\", alpha=0.5, label=\"A\")\n",
    "plt.hist(burned_trace[\"alpha_B\"]/burned_trace[\"beta_B\"], bins='auto', histtype=\"stepfilled\", alpha=0.5, label=\"B\")\n",
    "plt.legend()"
   ]
  },
  {
   "cell_type": "code",
   "execution_count": 546,
   "metadata": {},
   "outputs": [
    {
     "data": {
      "text/plain": [
       "<matplotlib.legend.Legend at 0x136277eb8>"
      ]
     },
     "execution_count": 546,
     "metadata": {},
     "output_type": "execute_result"
    },
    {
     "data": {
      "image/png": "[encoded data removed]",
      "text/plain": [
       "<Figure size 900x288 with 1 Axes>"
      ]
     },
     "metadata": {
      "needs_background": "light"
     },
     "output_type": "display_data"
    }
   ],
   "source": [
    "plt.figure(figsize=(12.5,4))\n",
    "plt.title(\"Posterior distributions difference of $A$ and $B$\")\n",
    "plt.hist(burned_trace[\"delta\"], bins='auto', histtype=\"stepfilled\", alpha=0.5, label=\"delta\")\n",
    "plt.legend()"
   ]
  },
  {
   "cell_type": "code",
   "execution_count": 547,
   "metadata": {},
   "outputs": [
    {
     "name": "stdout",
     "output_type": "stream",
     "text": [
      "Probability model A is WORSE than model B: 0.522\n",
      "Probability model A is BETTER than model B: 0.478\n"
     ]
    }
   ],
   "source": [
    "print(\"Probability model A is WORSE than model B: %.3f\" % \\\n",
    "    np.mean(burned_trace[\"delta\"] < 0))\n",
    "\n",
    "print(\"Probability model A is BETTER than model B: %.3f\" % \\\n",
    "    np.mean(burned_trace[\"delta\"] > 0))"
   ]
  },
  {
   "cell_type": "code",
   "execution_count": 548,
   "metadata": {},
   "outputs": [],
   "source": [
    "np.save('model_A_scores.npy', data_B)"
   ]
  },
  {
   "cell_type": "markdown",
   "metadata": {},
   "source": [
    "## Save models"
   ]
  },
  {
   "cell_type": "code",
   "execution_count": 549,
   "metadata": {},
   "outputs": [],
   "source": [
    "from joblib import dump\n",
    "# dump(model, 'models/model.joblib') \n",
    "for i in range(len(best_models)):\n",
    "    dump(best_models[i], 'models/model'+str(i)+'.joblib') "
   ]
  },
  {
   "cell_type": "markdown",
   "metadata": {},
   "source": [
    "## Load models"
   ]
  },
  {
   "cell_type": "code",
   "execution_count": 550,
   "metadata": {},
   "outputs": [],
   "source": [
    "from joblib import load\n",
    "# model = load('models2/model.joblib')\n",
    "best_models = []\n",
    "for i in range(11):\n",
    "    best_models.append(load('models/model'+str(i)+'.joblib'))"
   ]
  },
  {
   "cell_type": "code",
   "execution_count": null,
   "metadata": {},
   "outputs": [],
   "source": []
  }
 ],
 "metadata": {
  "kernelspec": {
   "display_name": "Python 3",
   "language": "python",
   "name": "python3"
  },
  "language_info": {
   "codemirror_mode": {
    "name": "ipython",
    "version": 3
   },
   "file_extension": ".py",
   "mimetype": "text/x-python",
   "name": "python",
   "nbconvert_exporter": "python",
   "pygments_lexer": "ipython3",
   "version": "3.7.2"
  }
 },
 "nbformat": 4,
 "nbformat_minor": 2
}
