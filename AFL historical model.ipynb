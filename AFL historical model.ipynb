{
 "cells": [
  {
   "cell_type": "code",
   "execution_count": 268,
   "metadata": {},
   "outputs": [
    {
     "name": "stdout",
     "output_type": "stream",
     "text": [
      "The autoreload extension is already loaded. To reload it, use:\n",
      "  %reload_ext autoreload\n"
     ]
    }
   ],
   "source": [
    "%load_ext autoreload\n",
    "%autoreload 2\n",
    "\n",
    "import numpy as np\n",
    "import pandas as pd\n",
    "import math\n",
    "import requests\n",
    "from bs4 import BeautifulSoup\n",
    "from sklearn.utils import resample\n",
    "import matplotlib.pyplot as plt\n",
    "from sklearn.model_selection import cross_val_score\n",
    "from sklearn import preprocessing\n",
    "from sklearn import metrics\n",
    "pd.set_option(\"display.max_columns\",100)"
   ]
  },
  {
   "cell_type": "code",
   "execution_count": 269,
   "metadata": {},
   "outputs": [],
   "source": [
    "## Proxy settings when using cntlm\n",
    "http_proxy  = \"http://localhost:3128\"\n",
    "https_proxy = \"https://localhost:3128\"\n",
    "\n",
    "proxyDict = { \n",
    "              \"http\"  : http_proxy, \n",
    "              \"https\" : https_proxy, \n",
    "            }\n",
    "proxyDict = None"
   ]
  },
  {
   "cell_type": "code",
   "execution_count": 270,
   "metadata": {},
   "outputs": [],
   "source": [
    "mapping = {\n",
    "    'Richmond': 'richmond',\n",
    "    'West Coast': 'westcoast',\n",
    "    'Sydney': 'swans',\n",
    "    'Adelaide': 'adelaide',\n",
    "    'Geelong': 'geelong',\n",
    "    'Greater Western Sydney': 'gws',\n",
    "    'Melbourne': 'melbourne',\n",
    "    'Port Adelaide': 'padelaide',\n",
    "    'Collingwood': 'collingwood',\n",
    "    'Hawthorn': 'hawthorn',\n",
    "    'Essendon': 'essendon',\n",
    "    'Western Bulldogs': 'bullldogs',\n",
    "    'St Kilda': 'stkilda',\n",
    "    'North Melbourne': 'kangaroos',\n",
    "    'Kangaroos' : 'kangaroos',\n",
    "    'Fremantle': 'fremantle',\n",
    "    'Brisbane Lions': 'brisbanel',\n",
    "    'Gold Coast': 'goldcoast',\n",
    "    'Carlton': 'carlton'\n",
    "}\n",
    "teams = list(mapping.keys())"
   ]
  },
  {
   "cell_type": "code",
   "execution_count": null,
   "metadata": {},
   "outputs": [],
   "source": [
    "from data_prep.team_history import History\n",
    "# team_df = History(mapping, proxyDict).generate_team_history()"
   ]
  },
  {
   "cell_type": "code",
   "execution_count": null,
   "metadata": {},
   "outputs": [],
   "source": [
    "from data_prep.team_history import History\n",
    "# History(mapping, proxyDict).generate_game_data('training-all/', team_df)"
   ]
  },
  {
   "cell_type": "code",
   "execution_count": 271,
   "metadata": {},
   "outputs": [
    {
     "name": "stdout",
     "output_type": "stream",
     "text": [
      "(2789, 17)\n",
      "(2789,)\n",
      "Wins vs losses 0.5769092864826103\n"
     ]
    }
   ],
   "source": [
    "X_list = []\n",
    "y_list = []\n",
    "\n",
    "for i in range(1,16):\n",
    "    X = np.load('training-all/training-'+str(2019-i)+'.npy')\n",
    "\n",
    "    mask = np.isnan(X).any(axis=1)\n",
    "    index = np.where(mask==True)[0][0] ## X8 has a row containing nulls\n",
    "    X = np.delete(X, index, 0)\n",
    "    X_list.append(X)\n",
    "\n",
    "    y = np.load('training-all/results-'+str(2019-i)+'.npy')\n",
    "    y = np.delete(y, index, 0)\n",
    "    y_list.append(y)\n",
    "    \n",
    "X = np.concatenate(X_list, axis=0)\n",
    "y = np.concatenate(y_list, axis=0)\n",
    "\n",
    "print(X.shape)\n",
    "print(y.shape)\n",
    "\n",
    "print('Wins vs losses',np.sum(y)/float(len(y)))"
   ]
  },
  {
   "cell_type": "code",
   "execution_count": 273,
   "metadata": {
    "scrolled": true
   },
   "outputs": [
    {
     "data": {
      "text/html": [
       "<div>\n",
       "<style scoped>\n",
       "    .dataframe tbody tr th:only-of-type {\n",
       "        vertical-align: middle;\n",
       "    }\n",
       "\n",
       "    .dataframe tbody tr th {\n",
       "        vertical-align: top;\n",
       "    }\n",
       "\n",
       "    .dataframe thead th {\n",
       "        text-align: right;\n",
       "    }\n",
       "</style>\n",
       "<table border=\"1\" class=\"dataframe\">\n",
       "  <thead>\n",
       "    <tr style=\"text-align: right;\">\n",
       "      <th></th>\n",
       "      <th>Rnd</th>\n",
       "      <th>h_F_mean</th>\n",
       "      <th>h_F_std</th>\n",
       "      <th>h_A_mean</th>\n",
       "      <th>h_A_std</th>\n",
       "      <th>h_M_mean</th>\n",
       "      <th>h_M_std</th>\n",
       "      <th>h_R_mean</th>\n",
       "      <th>h_perc</th>\n",
       "      <th>a_F_mean</th>\n",
       "      <th>a_F_std</th>\n",
       "      <th>a_A_mean</th>\n",
       "      <th>a_A_std</th>\n",
       "      <th>a_M_mean</th>\n",
       "      <th>a_M_std</th>\n",
       "      <th>a_R_mean</th>\n",
       "      <th>a_perc</th>\n",
       "      <th>perc</th>\n",
       "      <th>R_mean</th>\n",
       "      <th>F_mean</th>\n",
       "      <th>A_mean</th>\n",
       "      <th>F_std</th>\n",
       "      <th>A_std</th>\n",
       "    </tr>\n",
       "  </thead>\n",
       "  <tbody>\n",
       "    <tr>\n",
       "      <th>0</th>\n",
       "      <td>3.0</td>\n",
       "      <td>101.500000</td>\n",
       "      <td>19.500000</td>\n",
       "      <td>106.500000</td>\n",
       "      <td>11.500000</td>\n",
       "      <td>-5.000000</td>\n",
       "      <td>11.500000</td>\n",
       "      <td>0.500000</td>\n",
       "      <td>0.953052</td>\n",
       "      <td>109.500000</td>\n",
       "      <td>8.500000</td>\n",
       "      <td>92.000000</td>\n",
       "      <td>25.000000</td>\n",
       "      <td>17.500000</td>\n",
       "      <td>25.000000</td>\n",
       "      <td>1.000000</td>\n",
       "      <td>1.190217</td>\n",
       "      <td>0.800737</td>\n",
       "      <td>0.500000</td>\n",
       "      <td>0.926941</td>\n",
       "      <td>1.157609</td>\n",
       "      <td>2.294118</td>\n",
       "      <td>0.460000</td>\n",
       "    </tr>\n",
       "    <tr>\n",
       "      <th>1</th>\n",
       "      <td>4.0</td>\n",
       "      <td>101.666667</td>\n",
       "      <td>15.923428</td>\n",
       "      <td>100.666667</td>\n",
       "      <td>12.498889</td>\n",
       "      <td>1.000000</td>\n",
       "      <td>12.498889</td>\n",
       "      <td>0.666667</td>\n",
       "      <td>1.009934</td>\n",
       "      <td>82.666667</td>\n",
       "      <td>7.363574</td>\n",
       "      <td>101.333333</td>\n",
       "      <td>4.189935</td>\n",
       "      <td>-18.666667</td>\n",
       "      <td>4.189935</td>\n",
       "      <td>0.000000</td>\n",
       "      <td>0.815789</td>\n",
       "      <td>1.237983</td>\n",
       "      <td>0.000000</td>\n",
       "      <td>1.229839</td>\n",
       "      <td>0.993421</td>\n",
       "      <td>2.162459</td>\n",
       "      <td>2.983075</td>\n",
       "    </tr>\n",
       "    <tr>\n",
       "      <th>2</th>\n",
       "      <td>7.0</td>\n",
       "      <td>105.000000</td>\n",
       "      <td>12.192894</td>\n",
       "      <td>74.166667</td>\n",
       "      <td>32.121730</td>\n",
       "      <td>30.833333</td>\n",
       "      <td>32.121730</td>\n",
       "      <td>0.833333</td>\n",
       "      <td>1.415730</td>\n",
       "      <td>83.666667</td>\n",
       "      <td>21.898757</td>\n",
       "      <td>82.166667</td>\n",
       "      <td>17.686310</td>\n",
       "      <td>1.500000</td>\n",
       "      <td>17.686310</td>\n",
       "      <td>0.500000</td>\n",
       "      <td>1.018256</td>\n",
       "      <td>1.390349</td>\n",
       "      <td>1.666667</td>\n",
       "      <td>1.254980</td>\n",
       "      <td>0.902637</td>\n",
       "      <td>0.556785</td>\n",
       "      <td>1.816192</td>\n",
       "    </tr>\n",
       "    <tr>\n",
       "      <th>3</th>\n",
       "      <td>10.0</td>\n",
       "      <td>100.555556</td>\n",
       "      <td>13.953185</td>\n",
       "      <td>75.555556</td>\n",
       "      <td>34.944754</td>\n",
       "      <td>25.000000</td>\n",
       "      <td>34.944754</td>\n",
       "      <td>0.777778</td>\n",
       "      <td>1.330882</td>\n",
       "      <td>65.111111</td>\n",
       "      <td>17.329772</td>\n",
       "      <td>93.444444</td>\n",
       "      <td>10.510430</td>\n",
       "      <td>-28.333333</td>\n",
       "      <td>10.510430</td>\n",
       "      <td>0.222222</td>\n",
       "      <td>0.696790</td>\n",
       "      <td>1.910021</td>\n",
       "      <td>3.500000</td>\n",
       "      <td>1.544369</td>\n",
       "      <td>0.808561</td>\n",
       "      <td>0.805157</td>\n",
       "      <td>3.324769</td>\n",
       "    </tr>\n",
       "    <tr>\n",
       "      <th>4</th>\n",
       "      <td>15.0</td>\n",
       "      <td>97.307692</td>\n",
       "      <td>17.397545</td>\n",
       "      <td>72.076923</td>\n",
       "      <td>30.406127</td>\n",
       "      <td>25.230769</td>\n",
       "      <td>30.406127</td>\n",
       "      <td>0.769231</td>\n",
       "      <td>1.350053</td>\n",
       "      <td>88.307692</td>\n",
       "      <td>18.938705</td>\n",
       "      <td>70.230769</td>\n",
       "      <td>14.337438</td>\n",
       "      <td>18.076923</td>\n",
       "      <td>14.337438</td>\n",
       "      <td>0.769231</td>\n",
       "      <td>1.257393</td>\n",
       "      <td>1.073692</td>\n",
       "      <td>1.000000</td>\n",
       "      <td>1.101916</td>\n",
       "      <td>1.026287</td>\n",
       "      <td>0.918624</td>\n",
       "      <td>2.120750</td>\n",
       "    </tr>\n",
       "  </tbody>\n",
       "</table>\n",
       "</div>"
      ],
      "text/plain": [
       "    Rnd    h_F_mean    h_F_std    h_A_mean    h_A_std   h_M_mean    h_M_std  \\\n",
       "0   3.0  101.500000  19.500000  106.500000  11.500000  -5.000000  11.500000   \n",
       "1   4.0  101.666667  15.923428  100.666667  12.498889   1.000000  12.498889   \n",
       "2   7.0  105.000000  12.192894   74.166667  32.121730  30.833333  32.121730   \n",
       "3  10.0  100.555556  13.953185   75.555556  34.944754  25.000000  34.944754   \n",
       "4  15.0   97.307692  17.397545   72.076923  30.406127  25.230769  30.406127   \n",
       "\n",
       "   h_R_mean    h_perc    a_F_mean    a_F_std    a_A_mean    a_A_std  \\\n",
       "0  0.500000  0.953052  109.500000   8.500000   92.000000  25.000000   \n",
       "1  0.666667  1.009934   82.666667   7.363574  101.333333   4.189935   \n",
       "2  0.833333  1.415730   83.666667  21.898757   82.166667  17.686310   \n",
       "3  0.777778  1.330882   65.111111  17.329772   93.444444  10.510430   \n",
       "4  0.769231  1.350053   88.307692  18.938705   70.230769  14.337438   \n",
       "\n",
       "    a_M_mean    a_M_std  a_R_mean    a_perc      perc    R_mean    F_mean  \\\n",
       "0  17.500000  25.000000  1.000000  1.190217  0.800737  0.500000  0.926941   \n",
       "1 -18.666667   4.189935  0.000000  0.815789  1.237983  0.000000  1.229839   \n",
       "2   1.500000  17.686310  0.500000  1.018256  1.390349  1.666667  1.254980   \n",
       "3 -28.333333  10.510430  0.222222  0.696790  1.910021  3.500000  1.544369   \n",
       "4  18.076923  14.337438  0.769231  1.257393  1.073692  1.000000  1.101916   \n",
       "\n",
       "     A_mean     F_std     A_std  \n",
       "0  1.157609  2.294118  0.460000  \n",
       "1  0.993421  2.162459  2.983075  \n",
       "2  0.902637  0.556785  1.816192  \n",
       "3  0.808561  0.805157  3.324769  \n",
       "4  1.026287  0.918624  2.120750  "
      ]
     },
     "execution_count": 273,
     "metadata": {},
     "output_type": "execute_result"
    }
   ],
   "source": [
    "from data_prep.feature_eng import Features\n",
    "cols = Features().cols()\n",
    "Features().div_cols(X_list[0]).head()"
   ]
  },
  {
   "cell_type": "code",
   "execution_count": null,
   "metadata": {},
   "outputs": [
    {
     "name": "stdout",
     "output_type": "stream",
     "text": [
      "Season 2018\n",
      "Bayes CV search took 201.60 seconds for 75 candidates parameter settings.\n",
      "val. score: 63.68635112289539\n",
      "test score: 26.685900200750858\n",
      "XGBClassifier(base_score=0.5555943148420049, booster='gbtree',\n",
      "       colsample_bylevel=0.20892769584502952,\n",
      "       colsample_bynode=0.2630250707947739,\n",
      "       colsample_bytree=0.9890853373130833, gamma=0.04065829475781941,\n",
      "       learning_rate=0.009895015555773944, max_delta_step=2, max_depth=5,\n",
      "       min_child_weight=3, missing=None, n_estimators=424, n_jobs=-1,\n",
      "       nthread=None, objective='binary:logistic', random_state=0,\n",
      "       reg_alpha=1.02043535317476, reg_lambda=0.42525562159949304,\n",
      "       scale_pos_weight=0.7990002505664702, seed=None, silent=True,\n",
      "       subsample=0.5810033300413163)\n",
      "\n",
      "Season 2017\n",
      "Bayes CV search took 210.58 seconds for 75 candidates parameter settings.\n",
      "val. score: 67.39153520828377\n",
      "test score: 13.780019890294824\n",
      "XGBClassifier(base_score=0.5453548849449018, booster='gbtree',\n",
      "       colsample_bylevel=0.21200359758910925,\n",
      "       colsample_bynode=0.6505158467152184,\n",
      "       colsample_bytree=0.8494278168820799, gamma=0.0673882531374928,\n",
      "       learning_rate=0.013059695724968588, max_delta_step=4, max_depth=5,\n",
      "       min_child_weight=2, missing=None, n_estimators=312, n_jobs=-1,\n",
      "       nthread=None, objective='binary:logistic', random_state=0,\n",
      "       reg_alpha=1.9427457984781484, reg_lambda=0.714402723010858,\n",
      "       scale_pos_weight=0.9425225240097546, seed=None, silent=True,\n",
      "       subsample=0.3008438711369381)\n",
      "\n",
      "Season 2016\n",
      "Bayes CV search took 191.73 seconds for 75 candidates parameter settings.\n",
      "val. score: 56.279878830456404\n",
      "test score: 37.980327256347614\n",
      "XGBClassifier(base_score=0.5174809475298592, booster='gbtree',\n",
      "       colsample_bylevel=0.9870196672589648,\n",
      "       colsample_bynode=0.29459044753470554,\n",
      "       colsample_bytree=0.5294685722682505, gamma=0.09070108170187079,\n",
      "       learning_rate=0.00366533366671877, max_delta_step=3, max_depth=4,\n",
      "       min_child_weight=2, missing=None, n_estimators=870, n_jobs=-1,\n",
      "       nthread=None, objective='binary:logistic', random_state=0,\n",
      "       reg_alpha=0.6700041525910093, reg_lambda=1.3554847633304596,\n",
      "       scale_pos_weight=0.7336206547730669, seed=None, silent=True,\n",
      "       subsample=0.6628478095218668)\n",
      "\n",
      "Season 2015\n",
      "Bayes CV search took 198.92 seconds for 75 candidates parameter settings.\n",
      "val. score: 67.75931019950411\n",
      "test score: 21.224168655739096\n",
      "XGBClassifier(base_score=0.5076605571779487, booster='gbtree',\n",
      "       colsample_bylevel=0.23506441358800165,\n",
      "       colsample_bynode=0.14826132924803975,\n",
      "       colsample_bytree=0.7196834536496141, gamma=0.08985764926706104,\n",
      "       learning_rate=0.011979481240813526, max_delta_step=1, max_depth=3,\n",
      "       min_child_weight=1, missing=None, n_estimators=338, n_jobs=-1,\n",
      "       nthread=None, objective='binary:logistic', random_state=0,\n",
      "       reg_alpha=0.5998086309533481, reg_lambda=1.9244361243436097,\n",
      "       scale_pos_weight=0.9897618445737832, seed=None, silent=True,\n",
      "       subsample=0.3143542333107927)\n",
      "\n",
      "Season 2014\n",
      "Bayes CV search took 185.58 seconds for 75 candidates parameter settings.\n",
      "val. score: 64.70728544259889\n",
      "test score: 17.16623020450254\n",
      "XGBClassifier(base_score=0.5889144058303003, booster='gbtree',\n",
      "       colsample_bylevel=0.5159199221962548,\n",
      "       colsample_bynode=0.21135148655658503,\n",
      "       colsample_bytree=0.8552878749859748, gamma=0.027163515010280775,\n",
      "       learning_rate=0.01872010756623993, max_delta_step=4, max_depth=5,\n",
      "       min_child_weight=4, missing=None, n_estimators=415, n_jobs=-1,\n",
      "       nthread=None, objective='binary:logistic', random_state=0,\n",
      "       reg_alpha=0.7389338803816404, reg_lambda=1.975639720315317,\n",
      "       scale_pos_weight=0.9321521666748054, seed=None, silent=True,\n",
      "       subsample=0.784402182080638)\n",
      "\n",
      "Season 2013\n",
      "Bayes CV search took 231.08 seconds for 75 candidates parameter settings.\n",
      "val. score: 63.086570061696044\n",
      "test score: 34.838950919725505\n",
      "XGBClassifier(base_score=0.5534096274121106, booster='gbtree',\n",
      "       colsample_bylevel=0.3637831873270727,\n",
      "       colsample_bynode=0.9896881960476314,\n",
      "       colsample_bytree=0.3877981285931472, gamma=0.011648443124137268,\n",
      "       learning_rate=0.016615565076189786, max_delta_step=3, max_depth=3,\n",
      "       min_child_weight=5, missing=None, n_estimators=776, n_jobs=-1,\n",
      "       nthread=None, objective='binary:logistic', random_state=0,\n",
      "       reg_alpha=1.0869965715316219, reg_lambda=1.1896034998451248,\n",
      "       scale_pos_weight=0.9836628204507889, seed=None, silent=True,\n",
      "       subsample=0.2260716624815699)\n",
      "\n",
      "Season 2012\n",
      "Bayes CV search took 203.29 seconds for 75 candidates parameter settings.\n",
      "val. score: 61.26806636542301\n",
      "test score: 39.55593596378266\n",
      "XGBClassifier(base_score=0.5235378148246652, booster='gbtree',\n",
      "       colsample_bylevel=0.12233600166333342, colsample_bynode=0.1,\n",
      "       colsample_bytree=0.7083940605161247, gamma=0.07542781048385763,\n",
      "       learning_rate=0.009613914366729561, max_delta_step=0, max_depth=3,\n",
      "       min_child_weight=4, missing=None, n_estimators=855, n_jobs=-1,\n",
      "       nthread=None, objective='binary:logistic', random_state=0,\n",
      "       reg_alpha=1.0863427468596596, reg_lambda=0.5273703833692474,\n",
      "       scale_pos_weight=0.9465444861719295, seed=None, silent=True,\n",
      "       subsample=0.45150996072046556)\n",
      "\n",
      "Season 2011\n",
      "Bayes CV search took 266.21 seconds for 75 candidates parameter settings.\n",
      "val. score: 58.906522487423835\n",
      "test score: 36.36647381992784\n",
      "XGBClassifier(base_score=0.5970484004271241, booster='gbtree',\n",
      "       colsample_bylevel=0.19256158067284967,\n",
      "       colsample_bynode=0.5488855085751174,\n",
      "       colsample_bytree=0.5413716875593884, gamma=0.08768699473991871,\n",
      "       learning_rate=0.0031748633483918696, max_delta_step=1, max_depth=5,\n",
      "       min_child_weight=2, missing=None, n_estimators=757, n_jobs=-1,\n",
      "       nthread=None, objective='binary:logistic', random_state=0,\n",
      "       reg_alpha=0.8117161638038181, reg_lambda=1.8231152174976453,\n",
      "       scale_pos_weight=0.8204081864477463, seed=None, silent=True,\n",
      "       subsample=0.9707278957819887)\n",
      "\n"
     ]
    }
   ],
   "source": [
    "from modelling.training import Training\n",
    "## Using 5 fold cv the average score can be determined by (val. score / 2.8)\n",
    "## eg if cutoff is 65 then we should expect an average score of 23.2\n",
    "## If our validation score gets to 70, then we should obtain an average score of 25.\n",
    "scores, val_scores, best_models = Training(75, 70).train(X_list, y_list)"
   ]
  },
  {
   "cell_type": "code",
   "execution_count": 291,
   "metadata": {},
   "outputs": [
    {
     "name": "stdout",
     "output_type": "stream",
     "text": [
      "[25.512750245079484, 14.564806736800705, 43.88852879773326, 20.58717346708392, 18.51143502265623, 33.685441158308976, 38.064458619599215, 37.42131431678007, 19.125946607319925, 22.33424181915966, 20.952855084696033, 15.387102047602465, 13.387315895594515, 13.962095992811864, 19.835679732548886]\n",
      "\n",
      "23.814743036251677\n",
      "22.88762377288173\n"
     ]
    }
   ],
   "source": [
    "print(scores)\n",
    "print(\"\")\n",
    "print(np.mean(scores))\n",
    "print(np.mean(val_scores)/2.8)"
   ]
  },
  {
   "cell_type": "code",
   "execution_count": 292,
   "metadata": {
    "scrolled": false
   },
   "outputs": [
    {
     "data": {
      "text/html": [
       "<div>\n",
       "<style scoped>\n",
       "    .dataframe tbody tr th:only-of-type {\n",
       "        vertical-align: middle;\n",
       "    }\n",
       "\n",
       "    .dataframe tbody tr th {\n",
       "        vertical-align: top;\n",
       "    }\n",
       "\n",
       "    .dataframe thead th {\n",
       "        text-align: right;\n",
       "    }\n",
       "</style>\n",
       "<table border=\"1\" class=\"dataframe\">\n",
       "  <thead>\n",
       "    <tr style=\"text-align: right;\">\n",
       "      <th></th>\n",
       "      <th>importance</th>\n",
       "    </tr>\n",
       "  </thead>\n",
       "  <tbody>\n",
       "    <tr>\n",
       "      <th>perc</th>\n",
       "      <td>0.093232</td>\n",
       "    </tr>\n",
       "    <tr>\n",
       "      <th>A_mean</th>\n",
       "      <td>0.071285</td>\n",
       "    </tr>\n",
       "    <tr>\n",
       "      <th>R_mean</th>\n",
       "      <td>0.063071</td>\n",
       "    </tr>\n",
       "    <tr>\n",
       "      <th>h_M_mean</th>\n",
       "      <td>0.059610</td>\n",
       "    </tr>\n",
       "    <tr>\n",
       "      <th>F_mean</th>\n",
       "      <td>0.055245</td>\n",
       "    </tr>\n",
       "    <tr>\n",
       "      <th>a_M_mean</th>\n",
       "      <td>0.054711</td>\n",
       "    </tr>\n",
       "    <tr>\n",
       "      <th>h_perc</th>\n",
       "      <td>0.054367</td>\n",
       "    </tr>\n",
       "    <tr>\n",
       "      <th>h_A_mean</th>\n",
       "      <td>0.047691</td>\n",
       "    </tr>\n",
       "    <tr>\n",
       "      <th>a_perc</th>\n",
       "      <td>0.047581</td>\n",
       "    </tr>\n",
       "    <tr>\n",
       "      <th>h_R_mean</th>\n",
       "      <td>0.045618</td>\n",
       "    </tr>\n",
       "    <tr>\n",
       "      <th>a_A_mean</th>\n",
       "      <td>0.045011</td>\n",
       "    </tr>\n",
       "    <tr>\n",
       "      <th>a_R_mean</th>\n",
       "      <td>0.041252</td>\n",
       "    </tr>\n",
       "    <tr>\n",
       "      <th>h_F_mean</th>\n",
       "      <td>0.040615</td>\n",
       "    </tr>\n",
       "    <tr>\n",
       "      <th>a_F_mean</th>\n",
       "      <td>0.035341</td>\n",
       "    </tr>\n",
       "    <tr>\n",
       "      <th>A_std</th>\n",
       "      <td>0.028350</td>\n",
       "    </tr>\n",
       "    <tr>\n",
       "      <th>a_A_std</th>\n",
       "      <td>0.028338</td>\n",
       "    </tr>\n",
       "    <tr>\n",
       "      <th>F_std</th>\n",
       "      <td>0.028322</td>\n",
       "    </tr>\n",
       "    <tr>\n",
       "      <th>a_M_std</th>\n",
       "      <td>0.027755</td>\n",
       "    </tr>\n",
       "    <tr>\n",
       "      <th>a_F_std</th>\n",
       "      <td>0.027617</td>\n",
       "    </tr>\n",
       "    <tr>\n",
       "      <th>h_F_std</th>\n",
       "      <td>0.027371</td>\n",
       "    </tr>\n",
       "    <tr>\n",
       "      <th>h_A_std</th>\n",
       "      <td>0.027315</td>\n",
       "    </tr>\n",
       "    <tr>\n",
       "      <th>h_M_std</th>\n",
       "      <td>0.026549</td>\n",
       "    </tr>\n",
       "    <tr>\n",
       "      <th>Rnd</th>\n",
       "      <td>0.023751</td>\n",
       "    </tr>\n",
       "  </tbody>\n",
       "</table>\n",
       "</div>"
      ],
      "text/plain": [
       "          importance\n",
       "perc        0.093232\n",
       "A_mean      0.071285\n",
       "R_mean      0.063071\n",
       "h_M_mean    0.059610\n",
       "F_mean      0.055245\n",
       "a_M_mean    0.054711\n",
       "h_perc      0.054367\n",
       "h_A_mean    0.047691\n",
       "a_perc      0.047581\n",
       "h_R_mean    0.045618\n",
       "a_A_mean    0.045011\n",
       "a_R_mean    0.041252\n",
       "h_F_mean    0.040615\n",
       "a_F_mean    0.035341\n",
       "A_std       0.028350\n",
       "a_A_std     0.028338\n",
       "F_std       0.028322\n",
       "a_M_std     0.027755\n",
       "a_F_std     0.027617\n",
       "h_F_std     0.027371\n",
       "h_A_std     0.027315\n",
       "h_M_std     0.026549\n",
       "Rnd         0.023751"
      ]
     },
     "execution_count": 292,
     "metadata": {},
     "output_type": "execute_result"
    }
   ],
   "source": [
    "from helper_functions.functions import Helpers\n",
    "\n",
    "features = Features().div_cols(X_list[0]).columns\n",
    "\n",
    "imp = pd.DataFrame(data=Helpers().averagingImp(best_models),\n",
    "             index=features,\n",
    "             columns=['importance']).sort_values(by=['importance'], ascending=False)\n",
    "imp"
   ]
  },
  {
   "cell_type": "code",
   "execution_count": 293,
   "metadata": {},
   "outputs": [
    {
     "data": {
      "text/plain": [
       "<matplotlib.legend.Legend at 0x128da4320>"
      ]
     },
     "execution_count": 293,
     "metadata": {},
     "output_type": "execute_result"
    },
    {
     "data": {
      "image/png": "[encoded data removed]",
      "text/plain": [
       "<Figure size 900x288 with 1 Axes>"
      ]
     },
     "metadata": {
      "needs_background": "light"
     },
     "output_type": "display_data"
    }
   ],
   "source": [
    "plt.figure(figsize=(12.5,4))\n",
    "line_height = 2\n",
    "data = Helpers().averagingModels(np.concatenate(X_list, axis=0), best_models)\n",
    "x = plt.hist(data, bins='auto', density=True, facecolor='green', alpha=0.5)\n",
    "\n",
    "plt.vlines(np.percentile(data, 5), 0, line_height, linestyle=\"--\", colors='green', label=\"5%\")\n",
    "plt.vlines(np.percentile(data, 50), 0, line_height, linestyle=\"--\", colors='red', label=\"50%\")\n",
    "plt.vlines(np.percentile(data, 95), 0, line_height, linestyle=\"--\", colors='blue', label=\"95%\")\n",
    "plt.xlabel('Probability')\n",
    "plt.legend()"
   ]
  },
  {
   "cell_type": "code",
   "execution_count": 294,
   "metadata": {},
   "outputs": [
    {
     "data": {
      "text/html": [
       "<div>\n",
       "<style scoped>\n",
       "    .dataframe tbody tr th:only-of-type {\n",
       "        vertical-align: middle;\n",
       "    }\n",
       "\n",
       "    .dataframe tbody tr th {\n",
       "        vertical-align: top;\n",
       "    }\n",
       "\n",
       "    .dataframe thead th {\n",
       "        text-align: right;\n",
       "    }\n",
       "</style>\n",
       "<table border=\"1\" class=\"dataframe\">\n",
       "  <thead>\n",
       "    <tr style=\"text-align: right;\">\n",
       "      <th></th>\n",
       "      <th>base_score</th>\n",
       "      <th>colsample_bylevel</th>\n",
       "      <th>colsample_bynode</th>\n",
       "      <th>colsample_bytree</th>\n",
       "      <th>gamma</th>\n",
       "      <th>learning_rate</th>\n",
       "      <th>max_delta_step</th>\n",
       "      <th>max_depth</th>\n",
       "      <th>min_child_weight</th>\n",
       "      <th>n_estimators</th>\n",
       "      <th>n_jobs</th>\n",
       "      <th>random_state</th>\n",
       "      <th>reg_alpha</th>\n",
       "      <th>reg_lambda</th>\n",
       "      <th>scale_pos_weight</th>\n",
       "      <th>subsample</th>\n",
       "    </tr>\n",
       "  </thead>\n",
       "  <tbody>\n",
       "    <tr>\n",
       "      <th>count</th>\n",
       "      <td>15.000000</td>\n",
       "      <td>15.000000</td>\n",
       "      <td>15.000000</td>\n",
       "      <td>15.000000</td>\n",
       "      <td>15.000000</td>\n",
       "      <td>15.000000</td>\n",
       "      <td>15.000000</td>\n",
       "      <td>15.000000</td>\n",
       "      <td>15.000000</td>\n",
       "      <td>15.000000</td>\n",
       "      <td>15.0</td>\n",
       "      <td>15.0</td>\n",
       "      <td>15.000000</td>\n",
       "      <td>15.000000</td>\n",
       "      <td>15.000000</td>\n",
       "      <td>15.000000</td>\n",
       "    </tr>\n",
       "    <tr>\n",
       "      <th>mean</th>\n",
       "      <td>0.564286</td>\n",
       "      <td>0.520153</td>\n",
       "      <td>0.484699</td>\n",
       "      <td>0.553639</td>\n",
       "      <td>0.048267</td>\n",
       "      <td>0.011131</td>\n",
       "      <td>2.733333</td>\n",
       "      <td>4.066667</td>\n",
       "      <td>3.800000</td>\n",
       "      <td>530.733333</td>\n",
       "      <td>-1.0</td>\n",
       "      <td>0.0</td>\n",
       "      <td>1.254035</td>\n",
       "      <td>1.081460</td>\n",
       "      <td>1.003346</td>\n",
       "      <td>0.478552</td>\n",
       "    </tr>\n",
       "    <tr>\n",
       "      <th>std</th>\n",
       "      <td>0.025708</td>\n",
       "      <td>0.275175</td>\n",
       "      <td>0.265089</td>\n",
       "      <td>0.284718</td>\n",
       "      <td>0.028848</td>\n",
       "      <td>0.007771</td>\n",
       "      <td>1.709915</td>\n",
       "      <td>0.593617</td>\n",
       "      <td>1.207122</td>\n",
       "      <td>158.380404</td>\n",
       "      <td>0.0</td>\n",
       "      <td>0.0</td>\n",
       "      <td>0.705066</td>\n",
       "      <td>0.685382</td>\n",
       "      <td>0.128962</td>\n",
       "      <td>0.238383</td>\n",
       "    </tr>\n",
       "    <tr>\n",
       "      <th>min</th>\n",
       "      <td>0.505308</td>\n",
       "      <td>0.115202</td>\n",
       "      <td>0.104445</td>\n",
       "      <td>0.101469</td>\n",
       "      <td>0.003513</td>\n",
       "      <td>0.004108</td>\n",
       "      <td>0.000000</td>\n",
       "      <td>3.000000</td>\n",
       "      <td>1.000000</td>\n",
       "      <td>345.000000</td>\n",
       "      <td>-1.0</td>\n",
       "      <td>0.0</td>\n",
       "      <td>0.017106</td>\n",
       "      <td>0.055009</td>\n",
       "      <td>0.654100</td>\n",
       "      <td>0.101298</td>\n",
       "    </tr>\n",
       "    <tr>\n",
       "      <th>25%</th>\n",
       "      <td>0.548608</td>\n",
       "      <td>0.263092</td>\n",
       "      <td>0.248428</td>\n",
       "      <td>0.289270</td>\n",
       "      <td>0.025282</td>\n",
       "      <td>0.004985</td>\n",
       "      <td>1.000000</td>\n",
       "      <td>4.000000</td>\n",
       "      <td>3.000000</td>\n",
       "      <td>398.000000</td>\n",
       "      <td>-1.0</td>\n",
       "      <td>0.0</td>\n",
       "      <td>0.978945</td>\n",
       "      <td>0.487400</td>\n",
       "      <td>0.985869</td>\n",
       "      <td>0.353993</td>\n",
       "    </tr>\n",
       "    <tr>\n",
       "      <th>50%</th>\n",
       "      <td>0.564104</td>\n",
       "      <td>0.596805</td>\n",
       "      <td>0.495391</td>\n",
       "      <td>0.610431</td>\n",
       "      <td>0.051013</td>\n",
       "      <td>0.009413</td>\n",
       "      <td>3.000000</td>\n",
       "      <td>4.000000</td>\n",
       "      <td>4.000000</td>\n",
       "      <td>482.000000</td>\n",
       "      <td>-1.0</td>\n",
       "      <td>0.0</td>\n",
       "      <td>1.501280</td>\n",
       "      <td>1.172532</td>\n",
       "      <td>1.031893</td>\n",
       "      <td>0.525035</td>\n",
       "    </tr>\n",
       "    <tr>\n",
       "      <th>75%</th>\n",
       "      <td>0.582519</td>\n",
       "      <td>0.716062</td>\n",
       "      <td>0.634368</td>\n",
       "      <td>0.792650</td>\n",
       "      <td>0.071725</td>\n",
       "      <td>0.013505</td>\n",
       "      <td>4.000000</td>\n",
       "      <td>4.000000</td>\n",
       "      <td>5.000000</td>\n",
       "      <td>660.500000</td>\n",
       "      <td>-1.0</td>\n",
       "      <td>0.0</td>\n",
       "      <td>1.734001</td>\n",
       "      <td>1.633621</td>\n",
       "      <td>1.050408</td>\n",
       "      <td>0.611314</td>\n",
       "    </tr>\n",
       "    <tr>\n",
       "      <th>max</th>\n",
       "      <td>0.598446</td>\n",
       "      <td>0.944976</td>\n",
       "      <td>0.929752</td>\n",
       "      <td>0.909500</td>\n",
       "      <td>0.091731</td>\n",
       "      <td>0.032468</td>\n",
       "      <td>5.000000</td>\n",
       "      <td>5.000000</td>\n",
       "      <td>5.000000</td>\n",
       "      <td>797.000000</td>\n",
       "      <td>-1.0</td>\n",
       "      <td>0.0</td>\n",
       "      <td>1.989590</td>\n",
       "      <td>2.000000</td>\n",
       "      <td>1.202258</td>\n",
       "      <td>0.955450</td>\n",
       "    </tr>\n",
       "  </tbody>\n",
       "</table>\n",
       "</div>"
      ],
      "text/plain": [
       "       base_score  colsample_bylevel  colsample_bynode  colsample_bytree  \\\n",
       "count   15.000000          15.000000         15.000000         15.000000   \n",
       "mean     0.564286           0.520153          0.484699          0.553639   \n",
       "std      0.025708           0.275175          0.265089          0.284718   \n",
       "min      0.505308           0.115202          0.104445          0.101469   \n",
       "25%      0.548608           0.263092          0.248428          0.289270   \n",
       "50%      0.564104           0.596805          0.495391          0.610431   \n",
       "75%      0.582519           0.716062          0.634368          0.792650   \n",
       "max      0.598446           0.944976          0.929752          0.909500   \n",
       "\n",
       "           gamma  learning_rate  max_delta_step  max_depth  min_child_weight  \\\n",
       "count  15.000000      15.000000       15.000000  15.000000         15.000000   \n",
       "mean    0.048267       0.011131        2.733333   4.066667          3.800000   \n",
       "std     0.028848       0.007771        1.709915   0.593617          1.207122   \n",
       "min     0.003513       0.004108        0.000000   3.000000          1.000000   \n",
       "25%     0.025282       0.004985        1.000000   4.000000          3.000000   \n",
       "50%     0.051013       0.009413        3.000000   4.000000          4.000000   \n",
       "75%     0.071725       0.013505        4.000000   4.000000          5.000000   \n",
       "max     0.091731       0.032468        5.000000   5.000000          5.000000   \n",
       "\n",
       "       n_estimators  n_jobs  random_state  reg_alpha  reg_lambda  \\\n",
       "count     15.000000    15.0          15.0  15.000000   15.000000   \n",
       "mean     530.733333    -1.0           0.0   1.254035    1.081460   \n",
       "std      158.380404     0.0           0.0   0.705066    0.685382   \n",
       "min      345.000000    -1.0           0.0   0.017106    0.055009   \n",
       "25%      398.000000    -1.0           0.0   0.978945    0.487400   \n",
       "50%      482.000000    -1.0           0.0   1.501280    1.172532   \n",
       "75%      660.500000    -1.0           0.0   1.734001    1.633621   \n",
       "max      797.000000    -1.0           0.0   1.989590    2.000000   \n",
       "\n",
       "       scale_pos_weight  subsample  \n",
       "count         15.000000  15.000000  \n",
       "mean           1.003346   0.478552  \n",
       "std            0.128962   0.238383  \n",
       "min            0.654100   0.101298  \n",
       "25%            0.985869   0.353993  \n",
       "50%            1.031893   0.525035  \n",
       "75%            1.050408   0.611314  \n",
       "max            1.202258   0.955450  "
      ]
     },
     "execution_count": 294,
     "metadata": {},
     "output_type": "execute_result"
    }
   ],
   "source": [
    "rows = []\n",
    "for model in best_models:\n",
    "    rows.append(model.get_params())\n",
    "pd.DataFrame(rows).describe()"
   ]
  },
  {
   "cell_type": "markdown",
   "metadata": {},
   "source": [
    "## Train on the entire data set"
   ]
  },
  {
   "cell_type": "code",
   "execution_count": null,
   "metadata": {},
   "outputs": [],
   "source": [
    "from sklearn.metrics import make_scorer\n",
    "import numpy as np\n",
    "from xgboost.sklearn import XGBClassifier\n",
    "from skopt import BayesSearchCV\n",
    "from skopt.space import Real, Integer\n",
    "from time import time\n",
    "\n",
    "n_calls = 50\n",
    "cutoff_score = 80\n",
    "\n",
    "def afl_loss(y_true, y_pred):\n",
    "    return -np.sum(1 + np.log2(y_true * y_pred + (1 - y_true) * (1 - y_pred)))\n",
    "scorer = make_scorer(afl_loss, greater_is_better=False, needs_proba=True)\n",
    "\n",
    "space = {\n",
    "    'n_estimators': Integer(200, 1000),\n",
    "    'max_depth': Integer(3, 6),\n",
    "    'learning_rate': Real(10 ** -4, 0.1, \"log-uniform\"),\n",
    "    'gamma': Real(10 ** -5, 0.1, \"log-uniform\"),\n",
    "    'min_child_weight': Integer(1, 5),\n",
    "    'scale_pos_weight': Real(0, 2, \"uniform\"),\n",
    "    'max_delta_step': Integer(0, 5),\n",
    "    'colsample_bytree': Real(0.1, 1.0, \"uniform\"),\n",
    "    'colsample_bylevel': Real(0.1, 1.0, \"uniform\"),\n",
    "    'colsample_bynode': Real(0.1, 1.0, \"uniform\"),\n",
    "    'subsample': Real(0.1, 1.0, \"uniform\"),\n",
    "    'reg_lambda': Real(0.0, 2.0, \"uniform\"),\n",
    "    'reg_alpha': Real(0.0, 2.0, \"uniform\"),\n",
    "        }\n",
    "\n",
    "classifier = XGBClassifier(base_score=0.57574568288854, n_jobs=-1)\n",
    "\n",
    "start = time()\n",
    "opt = BayesSearchCV(classifier, search_spaces=space, scoring=scorer, cv=5, n_iter=n_calls, n_jobs=-1)\n",
    "\n",
    "# callback handler\n",
    "def on_step(iteration):\n",
    "    score = opt.best_score_\n",
    "    if score > cutoff_score:\n",
    "        print('Interrupting!')\n",
    "        return True\n",
    "\n",
    "opt.fit(Features().div_cols(X), y, callback=on_step)\n",
    "model = opt.best_estimator_\n",
    "print('Entire data set')\n",
    "print(\"Bayes CV search took %.2f seconds for %d candidates\"\n",
    "        \" parameter settings.\" % ((time() - start), n_calls))\n",
    "print(\"val. score:\", opt.best_score_)\n",
    "print(model)"
   ]
  },
  {
   "cell_type": "code",
   "execution_count": null,
   "metadata": {},
   "outputs": [],
   "source": [
    "pd.DataFrame(data=model.feature_importances_,\n",
    "             index=Features().cols() + ['perc','R_mean'], \n",
    "             columns=['importance']).sort_values(by=['importance'], ascending=False)"
   ]
  },
  {
   "cell_type": "markdown",
   "metadata": {},
   "source": [
    "## Scoring"
   ]
  },
  {
   "cell_type": "code",
   "execution_count": null,
   "metadata": {},
   "outputs": [],
   "source": [
    "from data_prep.web_scraping import Scrape\n",
    "\n",
    "games = []\n",
    "start = 134\n",
    "for i in range(start,start+6):\n",
    "    games.append(Scrape(mapping, proxyDict).scrape_game(i))\n",
    "games"
   ]
  },
  {
   "cell_type": "code",
   "execution_count": null,
   "metadata": {},
   "outputs": [],
   "source": [
    "from modelling.scoring import Scoring\n",
    "scoring = Scoring(mapping, proxyDict).score_data(games)"
   ]
  },
  {
   "cell_type": "code",
   "execution_count": null,
   "metadata": {},
   "outputs": [],
   "source": [
    "def modelStats(X, models=[]):\n",
    "    predictions = np.column_stack([\n",
    "        model.predict_proba(X)[:,1] for model in models\n",
    "    ])\n",
    "    return [np.mean(predictions, axis=1), np.median(predictions, axis=1), np.std(predictions, axis=1), \n",
    "            np.max(predictions, axis=1), np.min(predictions, axis=1)]\n",
    "\n",
    "arr = np.c_[ games, model.predict_proba(scoring)[:,1], modelStats(scoring,best_models)[0],\n",
    "           modelStats(scoring,best_models)[1],modelStats(scoring,best_models)[2],\n",
    "            modelStats(scoring,best_models)[3], modelStats(scoring,best_models)[4]] \n",
    "pd.DataFrame(arr,columns=['home','away', 'prob','prob_avg', 'prob_med', 'prob_std', 'prob_max', 'prob_min'])"
   ]
  },
  {
   "cell_type": "markdown",
   "metadata": {},
   "source": [
    "## Save models"
   ]
  },
  {
   "cell_type": "code",
   "execution_count": null,
   "metadata": {},
   "outputs": [],
   "source": [
    "from joblib import dump\n",
    "dump(model, 'models/model.joblib') \n",
    "for i in range(len(best_models)):\n",
    "    dump(best_models[i], 'models/model'+str(i)+'.joblib') "
   ]
  },
  {
   "cell_type": "markdown",
   "metadata": {},
   "source": [
    "## Load models"
   ]
  },
  {
   "cell_type": "code",
   "execution_count": null,
   "metadata": {},
   "outputs": [],
   "source": [
    "from joblib import load\n",
    "model = load('models/model.joblib')\n",
    "best_models = []\n",
    "for i in range(15):\n",
    "    best_models.append(load('models/model'+str(i)+'.joblib'))"
   ]
  },
  {
   "cell_type": "markdown",
   "metadata": {},
   "source": [
    "## Model Analysis"
   ]
  },
  {
   "cell_type": "code",
   "execution_count": 295,
   "metadata": {},
   "outputs": [],
   "source": [
    "overall = []\n",
    "for i in range(len(best_models)):\n",
    "    season_scores = []\n",
    "    for rnd in range(1,24):\n",
    "        df = pd.DataFrame(np.c_[X_list[i],y_list[i]])\n",
    "        y_new = df[df[0] == rnd][17].values\n",
    "        x_new = df[df[0] == rnd].drop(17, axis=1).values\n",
    "        score = Helpers().afl_loss(y_new,best_models[i].predict_proba(Features().div_cols(x_new).values)[:,1])\n",
    "        season_scores.append(score)\n",
    "    overall.append(season_scores)"
   ]
  },
  {
   "cell_type": "code",
   "execution_count": 296,
   "metadata": {},
   "outputs": [
    {
     "data": {
      "text/plain": [
       "Text(0.5, 1.0, 'Average Cumulative Score')"
      ]
     },
     "execution_count": 296,
     "metadata": {},
     "output_type": "execute_result"
    },
    {
     "data": {
      "image/png": "[encoded data removed]",
      "text/plain": [
       "<Figure size 900x288 with 1 Axes>"
      ]
     },
     "metadata": {
      "needs_background": "light"
     },
     "output_type": "display_data"
    }
   ],
   "source": [
    "plt.figure(figsize=(12.5,4))\n",
    "plt.plot(np.cumsum(np.array(np.matrix(np.array(overall)).mean(0)).flatten()))\n",
    "plt.title('Average Cumulative Score')"
   ]
  },
  {
   "cell_type": "code",
   "execution_count": 297,
   "metadata": {},
   "outputs": [],
   "source": [
    "data = []\n",
    "for i in range(15):\n",
    "    data.append(np.sum(overall[i]))"
   ]
  },
  {
   "cell_type": "code",
   "execution_count": 298,
   "metadata": {},
   "outputs": [
    {
     "name": "stdout",
     "output_type": "stream",
     "text": [
      "[14.22454914 15.2045933  15.91451313 17.03966147 18.52530953 19.13225969\n",
      " 19.46554202 19.53260693 21.53056221 24.01997097 28.2577939  31.80561348\n",
      " 35.93364907 38.27539488 46.56103408]\n",
      "[13.3873159  13.96209599 14.56480674 15.38710205 18.51143502 19.12594661\n",
      " 19.83567973 20.58717347 20.95285508 22.33424182 25.51275025 33.68544116\n",
      " 37.42131432 38.06445862 43.8885288 ]\n",
      "24.361536918612867\n",
      "23.814743036251677\n"
     ]
    }
   ],
   "source": [
    "data_A = np.load('model_A_scores.npy')\n",
    "data_B = scores.copy()\n",
    "print(np.sort(data_A))\n",
    "print(np.sort(data_B))\n",
    "print(np.mean(data_A))\n",
    "print(np.mean(data_B))"
   ]
  },
  {
   "cell_type": "code",
   "execution_count": 299,
   "metadata": {},
   "outputs": [
    {
     "name": "stderr",
     "output_type": "stream",
     "text": [
      "Multiprocess sampling (4 chains in 4 jobs)\n",
      "CompoundStep\n",
      ">Metropolis: [beta_B]\n",
      ">Metropolis: [alpha_B]\n",
      ">Metropolis: [beta_A]\n",
      ">Metropolis: [alpha_A]\n",
      "Sampling 4 chains: 100%|██████████| 74000/74000 [00:15<00:00, 4783.08draws/s]\n",
      "The number of effective samples is smaller than 10% for some parameters.\n"
     ]
    }
   ],
   "source": [
    "import pymc3 as pm\n",
    "# The parameters are the bounds of the Uniform.\n",
    "with pm.Model() as model:\n",
    "    alpha_A = pm.Exponential('alpha_A', 1/10)\n",
    "    beta_A = pm.Uniform('beta_A', lower=0, upper=1)\n",
    "    alpha_B = pm.Exponential('alpha_B', 1/10)\n",
    "    beta_B = pm.Uniform('beta_B', lower=0, upper=1)\n",
    "    \n",
    "    # Define the deterministic delta function. This is our unknown of interest.\n",
    "    delta = pm.Deterministic(\"delta\", alpha_A/beta_A - alpha_B/beta_B)\n",
    "    \n",
    "    obs_A = pm.Gamma(\"obs_A\", alpha=alpha_A, beta=beta_A, observed=data_A)\n",
    "    obs_B = pm.Gamma(\"obs_B\", alpha=alpha_B, beta=beta_B, observed=data_B)\n",
    "    \n",
    "    step = pm.Metropolis()\n",
    "    trace = pm.sample(18000, step=step)\n",
    "    burned_trace = trace[1000:]"
   ]
  },
  {
   "cell_type": "code",
   "execution_count": 300,
   "metadata": {},
   "outputs": [
    {
     "data": {
      "text/plain": [
       "<matplotlib.legend.Legend at 0x128d7e898>"
      ]
     },
     "execution_count": 300,
     "metadata": {},
     "output_type": "execute_result"
    },
    {
     "data": {
      "image/png": "[encoded data removed]",
      "text/plain": [
       "<Figure size 900x288 with 1 Axes>"
      ]
     },
     "metadata": {
      "needs_background": "light"
     },
     "output_type": "display_data"
    }
   ],
   "source": [
    "plt.figure(figsize=(12.5,4))\n",
    "plt.title(\"Posterior distributions of $A$ and $B$\")\n",
    "plt.hist(burned_trace[\"alpha_A\"]/burned_trace[\"beta_A\"], bins='auto', histtype=\"stepfilled\", alpha=0.5, label=\"A\")\n",
    "plt.hist(burned_trace[\"alpha_B\"]/burned_trace[\"beta_B\"], bins='auto', histtype=\"stepfilled\", alpha=0.5, label=\"B\")\n",
    "plt.legend()"
   ]
  },
  {
   "cell_type": "code",
   "execution_count": 301,
   "metadata": {},
   "outputs": [
    {
     "data": {
      "text/plain": [
       "<matplotlib.legend.Legend at 0x1292bed30>"
      ]
     },
     "execution_count": 301,
     "metadata": {},
     "output_type": "execute_result"
    },
    {
     "data": {
      "image/png": "[encoded data removed]",
      "text/plain": [
       "<Figure size 900x288 with 1 Axes>"
      ]
     },
     "metadata": {
      "needs_background": "light"
     },
     "output_type": "display_data"
    }
   ],
   "source": [
    "plt.figure(figsize=(12.5,4))\n",
    "plt.title(\"Posterior distributions difference of $A$ and $B$\")\n",
    "plt.hist(burned_trace[\"delta\"], bins='auto', histtype=\"stepfilled\", alpha=0.5, label=\"delta\")\n",
    "plt.legend()"
   ]
  },
  {
   "cell_type": "code",
   "execution_count": 302,
   "metadata": {},
   "outputs": [
    {
     "name": "stdout",
     "output_type": "stream",
     "text": [
      "Probability model A is WORSE than model B: 0.422\n",
      "Probability model A is BETTER than model B: 0.578\n"
     ]
    }
   ],
   "source": [
    "print(\"Probability model A is WORSE than model B: %.3f\" % \\\n",
    "    np.mean(burned_trace[\"delta\"] < 0))\n",
    "\n",
    "print(\"Probability model A is BETTER than model B: %.3f\" % \\\n",
    "    np.mean(burned_trace[\"delta\"] > 0))"
   ]
  },
  {
   "cell_type": "markdown",
   "metadata": {},
   "source": [
    "## Simulated scores for past seasons"
   ]
  },
  {
   "cell_type": "code",
   "execution_count": null,
   "metadata": {
    "scrolled": false
   },
   "outputs": [],
   "source": [
    "from modelling.scoring import Simulate\n",
    "Simulate(mapping,proxyDict).generate_past_scores('training-all', best_models, team_df)"
   ]
  },
  {
   "cell_type": "code",
   "execution_count": null,
   "metadata": {},
   "outputs": [],
   "source": [
    "year = 2018\n",
    "plt.figure(figsize=(12.5,4))\n",
    "plt.plot(np.load('training-all/scores-'+str(year)+'.npy')[:,0])\n",
    "plt.title('Team Season Cumulative Scores')\n",
    "print(teams)"
   ]
  },
  {
   "cell_type": "code",
   "execution_count": null,
   "metadata": {},
   "outputs": [],
   "source": [
    "plt.figure(figsize=(12.5,4))\n",
    "plt.plot(np.load('training-all/scores-'+str(year)+'.npy')[:,2])\n",
    "plt.title('Team Season Rolling Mean Score')\n",
    "print(teams)"
   ]
  },
  {
   "cell_type": "code",
   "execution_count": null,
   "metadata": {},
   "outputs": [],
   "source": []
  }
 ],
 "metadata": {
  "kernelspec": {
   "display_name": "Python 3",
   "language": "python",
   "name": "python3"
  },
  "language_info": {
   "codemirror_mode": {
    "name": "ipython",
    "version": 3
   },
   "file_extension": ".py",
   "mimetype": "text/x-python",
   "name": "python",
   "nbconvert_exporter": "python",
   "pygments_lexer": "ipython3",
   "version": "3.7.2"
  }
 },
 "nbformat": 4,
 "nbformat_minor": 2
}
